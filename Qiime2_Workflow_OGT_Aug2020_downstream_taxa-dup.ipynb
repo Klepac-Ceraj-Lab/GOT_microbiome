{
 "cells": [
  {
   "cell_type": "markdown",
   "metadata": {},
   "source": [
    "# QIIME 2 Workflow for OGT paper:\n",
    "Adapted from Vanja's Qiime2_Workflow_MicrobialMatt_August2020 python notebook\n",
    "\n",
    "\n",
    "\n",
    "# This workflow was generated from LangilleLab workflow and Qiime Tutorials"
   ]
  },
  {
   "cell_type": "markdown",
   "metadata": {},
   "source": [
    "## Qiime 2 workflow\n",
    "\n",
    "For this particular dataset, argonne - I am using different primers from EMP.\n",
    "\n",
    "used Qiime2 and Langille lab tutorials to piece this together. There's definitely room for improvement.\n",
    "\n",
    "Qiime2 uses two different types of files that contain the data and metadata for the analysis (.qza and .qzv files). To see what type of data is contained in a data file, use the command qiime tools peek filename.qza. The files will contain basic info (name, universally unique identifier, data type and dataformat). the raw data in these files can be accessed using the command qiime tools export\n",
    "\n",
    "updated and ran in June 2020 using qiime2-2020.2 to process Danielle's ECHO 16S samples (130 of them)   \n"
   ]
  },
  {
   "cell_type": "code",
   "execution_count": 7,
   "metadata": {},
   "outputs": [
    {
     "name": "stdout",
     "output_type": "stream",
     "text": [
      "q2cli version 2020.6.0\r\n",
      "Run `qiime info` for more version details.\r\n"
     ]
    }
   ],
   "source": [
    "'''Activate qiime env'''\n",
    "# conda activate qiime2-2020.6 prior to opening jupyter notebook\n",
    "\n",
    "!qiime --version"
   ]
  },
  {
   "cell_type": "markdown",
   "metadata": {},
   "source": [
    "### “EMP protocol” multiplexed paired-end fastq\n",
    "\n",
    "Format description\n",
    "\n",
    "one forward.fastq.gz file that contains the forward sequence reads,\n",
    "\n",
    "one reverse.fastq.gz file that contains the reverse sequence reads,\n",
    "\n",
    "one barcodes.fastq.gz file that contains the associated barcode reads"
   ]
  },
  {
   "cell_type": "code",
   "execution_count": 13,
   "metadata": {},
   "outputs": [
    {
     "name": "stdout",
     "output_type": "stream",
     "text": [
      "\u001b[32mImported CHBoral_PairedEndSeq_rawdata/ as EMPPairedEndDirFmt to CHBoral_PairedEndSeq.qza\u001b[0m\r\n"
     ]
    }
   ],
   "source": [
    "'''Importing raw sequence files based on \"EMP protocol\" \\\n",
    "multiplexed paired-end fastq'''\n",
    "\n",
    "# NileshMeta_Undetermined_S0_L001_R1_001.fastq.gz --> forward.fastq.gz\n",
    "# NileshMeta_Undetermined_S0_L001_R2_001.fastq.gz --> reverse.fastq.gz\n",
    "# NileshMehta_Undetermined_S0_L001_I1_001.fastq.gz --> barcodes.fastq.gz\n",
    "\n",
    "\n",
    "!qiime tools import \\\n",
    "   --type EMPPairedEndSequences \\\n",
    "   --input-path CHBoral_PairedEndSeq_rawdata/ \\\n",
    "   --output-path CHBoral_PairedEndSeq.qza\n",
    "   "
   ]
  },
  {
   "cell_type": "markdown",
   "metadata": {},
   "source": [
    "## Demultiplex:\n",
    "#### We must demultiplex these reads to determine which sample each read came from.\n",
    "\n",
    "Demultiplexed using demux emp-paired using reverse primer sequence that has the barcode embedded."
   ]
  },
  {
   "cell_type": "code",
   "execution_count": 4,
   "metadata": {},
   "outputs": [
    {
     "name": "stdout",
     "output_type": "stream",
     "text": [
      "\u001b[32mSaved SampleData[PairedEndSequencesWithQuality] to: CHBoral_PairedEndSeq_demux-full.qza\u001b[0m\n",
      "\u001b[32mSaved ErrorCorrectionDetails to: CHBoral_PairedEndSeq_demux-details.qza\u001b[0m\n"
     ]
    }
   ],
   "source": [
    "'''Demultiplex paired end sequences'''\n",
    "# metadata file was renamed and reformated from SampleInfo_Nilesh Mehta 2Feb2015.xlsx\n",
    "\n",
    "!qiime demux emp-paired \\\n",
    "  --m-barcodes-file mappingfile_NileshMehta_with_Metadata_062715_corrected.txt \\\n",
    "  --m-barcodes-column BarcodeSequence \\\n",
    "  --p-rev-comp-mapping-barcodes True \\\n",
    "  --i-seqs CHBoral_PairedEndSeq.qza \\\n",
    "  --o-per-sample-sequences CHBoral_PairedEndSeq_demux-full.qza \\\n",
    "  --o-error-correction-details CHBoral_PairedEndSeq_demux-details.qza\n",
    "\n",
    "\n",
    "#  --p-rev-comp-mapping-barcodes True \\\n",
    "\n",
    "\n",
    "# !qiime demux emp-paired \\\n",
    "#   --m-barcodes-file MicrobialMat.tsv \\\n",
    "#   --m-barcodes-column BarcodeSequence \\\n",
    "#   --p-rev-comp-mapping-barcodes \\\n",
    "#   --i-seqs emp-paired-end-sequences.qza \\\n",
    "#   --o-per-sample-sequences demux-full.qza \\\n",
    "#   --o-error-correction-details demux-details.qza"
   ]
  },
  {
   "cell_type": "code",
   "execution_count": 6,
   "metadata": {},
   "outputs": [
    {
     "name": "stdout",
     "output_type": "stream",
     "text": [
      "\u001b[32mSaved Visualization to: CHBoral_PairedEndSeq_demux-full_qualities.qzv\u001b[0m\r\n"
     ]
    }
   ],
   "source": [
    "'''Summarize demultiplexed outputs'''\n",
    "\n",
    "!qiime demux summarize \\\n",
    "--i-data CHBoral_PairedEndSeq_demux-full.qza \\\n",
    "--o-visualization CHBoral_PairedEndSeq_demux-full_qualities.qzv\n",
    "\n",
    "\n",
    "# !qiime demux summarize \\\n",
    "# --i-data demux-full.qza \\\n",
    "# --o-visualization qualities.qzv"
   ]
  },
  {
   "cell_type": "code",
   "execution_count": 18,
   "metadata": {},
   "outputs": [
    {
     "name": "stdout",
     "output_type": "stream",
     "text": [
      "Press the 'q' key, Control-C, or Control-D to quit. This view may no longer be accessible or work correctly after quitting.\n",
      "Press the 'q' key, Control-C, or Control-D to quit. This view may no longer be accessible or work correctly after quitting."
     ]
    }
   ],
   "source": [
    "'''View summary of demultiplexed qualities'''\n",
    "\n",
    "!qiime tools view CHBoral_PairedEndSeq_demux-full_qualities.qzv\n"
   ]
  },
  {
   "cell_type": "raw",
   "metadata": {},
   "source": [
    "'''Get fastq stats for demultiplexed seqs'''\n",
    "\n",
    "!qiime vsearch fastq-stats \\\n",
    "  --i-sequences CHBoral_PairedEndSeq_demux-full.qza \\\n",
    "  --o-visualization CHBoral_PairedEndSeq_demux-full-stats.qzv"
   ]
  },
  {
   "cell_type": "raw",
   "metadata": {},
   "source": [
    "'''View fastq stats for demultiplexed seqs'''\n",
    "\n",
    "!qiime tools view CHBoral_PairedEndSeq_demux-full-stats.qzv\n"
   ]
  },
  {
   "cell_type": "markdown",
   "metadata": {},
   "source": [
    "#### Based on fastq stats all sequences are of >= 248bp this should allow for DADA2 run to be successful. This would provide ~31bp overlap between the 314F and 806R reads.\n",
    "\n",
    "However, given how slow DADA2 will run and that it overlap region of at least 12bp between the forward and reverse reads, we will subsample to ensure its success. "
   ]
  },
  {
   "cell_type": "code",
   "execution_count": 10,
   "metadata": {},
   "outputs": [
    {
     "name": "stdout",
     "output_type": "stream",
     "text": [
      "\u001b[32mSaved SampleData[PairedEndSequencesWithQuality] to: CHBoral_PairedEndSeq_demux-subsample.qza\u001b[0m\r\n"
     ]
    }
   ],
   "source": [
    "\"Subsample to ensure DADA2 run is succesful\"\n",
    "\n",
    "# will result in ~10,000 seqs per sample\n",
    "\n",
    "!qiime demux subsample-paired \\\n",
    "  --i-sequences CHBoral_PairedEndSeq_demux-full.qza \\\n",
    "  --p-fraction 0.08 \\\n",
    "  --o-subsampled-sequences CHBoral_PairedEndSeq_demux-subsample.qza\n"
   ]
  },
  {
   "cell_type": "code",
   "execution_count": 11,
   "metadata": {},
   "outputs": [
    {
     "name": "stdout",
     "output_type": "stream",
     "text": [
      "\u001b[32mSaved Visualization to: CHBoral_PairedEndSeq_demux-subsample.qzv\u001b[0m\r\n"
     ]
    }
   ],
   "source": [
    "'''Summarize subsampled demultiplexed qualities'''\n",
    "\n",
    "!qiime demux summarize \\\n",
    "  --i-data CHBoral_PairedEndSeq_demux-subsample.qza \\\n",
    "  --o-visualization CHBoral_PairedEndSeq_demux-subsample.qzv"
   ]
  },
  {
   "cell_type": "code",
   "execution_count": 63,
   "metadata": {},
   "outputs": [
    {
     "name": "stdout",
     "output_type": "stream",
     "text": [
      "Press the 'q' key, Control-C, or Control-D to quit. This view may no longer be accessible or work correctly after quitting.\n",
      "Press the 'q' key, Control-C, or Control-D to quit. This view may no longer be accessible or work correctly after quitting."
     ]
    }
   ],
   "source": [
    "'''View summary of subsampled demultiplexed qualities'''\n",
    "\n",
    "!qiime tools view CHBoral_PairedEndSeq_demux-subsample.qzv"
   ]
  },
  {
   "cell_type": "raw",
   "metadata": {},
   "source": [
    "'''Get fastq stats for subsampled demultiplexed seqs'''\n",
    "\n",
    "!qiime vsearch fastq-stats \\\n",
    "  --i-sequences CHBoral_PairedEndSeq_demux-subsample.qza \\\n",
    "  --o-visualization CHBoral_PairedEndSeq_demux-subsample-stats.qzv"
   ]
  },
  {
   "cell_type": "raw",
   "metadata": {},
   "source": [
    "'''View fastq stats for subsampled demultiplexed seqs'''\n",
    "\n",
    "!qiime tools view CHBoral_PairedEndSeq_demux-subsample-stats.qzv\n",
    "# length distrubution shows ~100% of the seqs are of length >=248bp"
   ]
  },
  {
   "cell_type": "markdown",
   "metadata": {},
   "source": [
    "#### Given that all sequences are of >= 248bp this should allow for DADA2 run to be successful. This would provide ~31bp overlap between the 314F and 806R reads."
   ]
  },
  {
   "cell_type": "raw",
   "metadata": {},
   "source": [
    "Reads should then be denoised into amplicon sequence variants (ASVs) or clustered into operational taxonomic units (OTUs) to achieve two goals:\n",
    "reducing sequence errors\n",
    "\n",
    "dereplicating sequences"
   ]
  },
  {
   "cell_type": "markdown",
   "metadata": {},
   "source": [
    "### Running DADA2 workflow which does the following:\n",
    "1. filter and trim the reads\n",
    "2. find the most likely original sequences in the sample (ASVs)\n",
    "3. remove chimeras:\n",
    "--p-chimera-method 'consensus': Chimeras are detected in samples individually, and sequences found chimeric in a sufficient fraction of samples are removed.  \n",
    "4. count the abundances"
   ]
  },
  {
   "cell_type": "markdown",
   "metadata": {},
   "source": [
    "Full length of the reads (>=~248bp) will give ~31 bp overlap \n",
    "\n",
    "For quality trimming in DADA2, a read length of ~>=240bp must be maintained to get a 15bp overlap. DADA2 requires at least 12 bp overlap over it will not work.\n",
    "\n",
    "Primer 806R is 20bp and primer 341F is 17bp. DADA2 expects primer-free reads and hence 20bp will be trimmed for forward and reverse reads. Higher number of bp is trimmed to reduce inaccuracies for ASV/OTUs.\n",
    "However, given that the quality of the first ~20 bp for forward and reverse reads is very high, I will trim the first 5bp only."
   ]
  },
  {
   "cell_type": "code",
   "execution_count": 21,
   "metadata": {},
   "outputs": [
    {
     "name": "stdout",
     "output_type": "stream",
     "text": [
      "\u001b[32mSaved FeatureTable[Frequency] to: CHBoral_PairedEndSeq_demux-subsample-table.qza\u001b[0m\r\n",
      "\u001b[32mSaved FeatureData[Sequence] to: CHBoral_PairedEndSeq_demux-subsample-rep-seqs.qza\u001b[0m\r\n",
      "\u001b[32mSaved SampleData[DADA2Stats] to: CHBoral_PairedEndSeq_demux-subsample-denoising-stats.qza\u001b[0m\r\n"
     ]
    }
   ],
   "source": [
    "#!qiime dada2 denoise-paired --i-demultiplexed-seqs reads_qza/reads_trimmed.qza \\\n",
    " #                          --p-trunc-len-f 270 \\\n",
    "  #                         --p-trunc-len-r 210 \\\n",
    "   #                        --p-max-ee-f 2 \\\n",
    "    #                       --p-max-ee-r 3 \\\n",
    "     #                      --p-n-threads 4 \\\n",
    "      #                     --output-dir dada2_output --verbose\n",
    "\n",
    "\n",
    "!qiime dada2 denoise-paired \\\n",
    "  --i-demultiplexed-seqs CHBoral_PairedEndSeq_demux-subsample.qza \\\n",
    "  --p-trim-left-f 5 \\\n",
    "  --p-trim-left-r 5 \\\n",
    "  --p-trunc-len-f 240 \\\n",
    "  --p-trunc-len-r 240 \\\n",
    "  --o-table DADA2_subsample/CHBoral_PairedEndSeq_demux-subsample-table.qza \\\n",
    "  --o-representative-sequences DADA2_subsample/CHBoral_PairedEndSeq_demux-subsample-rep-seqs.qza \\\n",
    "  --o-denoising-stats DADA2_subsample/CHBoral_PairedEndSeq_demux-subsample-denoising-stats.qza"
   ]
  },
  {
   "cell_type": "code",
   "execution_count": 39,
   "metadata": {},
   "outputs": [
    {
     "name": "stdout",
     "output_type": "stream",
     "text": [
      "\u001b[32mSaved Visualization to: DADA2_subsample/CHBoral_PairedEndSeq_demux-subsample-table.qzv\u001b[0m\n",
      "\u001b[32mSaved Visualization to: DADA2_subsample/CHBoral_PairedEndSeq_demux-subsample-rep-seqs.qzv\u001b[0m\n",
      "\u001b[32mSaved Visualization to: DADA2_subsample/CHBoral_PairedEndSeq_demux-subsample-denoising-stats.qzv\u001b[0m\n"
     ]
    }
   ],
   "source": [
    "'''Generate summaries for DADA2 output'''\n",
    "\n",
    "!qiime feature-table summarize \\\n",
    "  --i-table DADA2_subsample/CHBoral_PairedEndSeq_demux-subsample-table.qza \\\n",
    "  --o-visualization DADA2_subsample/CHBoral_PairedEndSeq_demux-subsample-table.qzv \\\n",
    "  --m-sample-metadata-file mappingfile_NileshMehta_with_Metadata_062715_corrected.txt\n",
    "\n",
    "!qiime feature-table tabulate-seqs \\\n",
    "  --i-data DADA2_subsample/CHBoral_PairedEndSeq_demux-subsample-rep-seqs.qza \\\n",
    "  --o-visualization DADA2_subsample/CHBoral_PairedEndSeq_demux-subsample-rep-seqs.qzv\n",
    "\n",
    "!qiime metadata tabulate \\\n",
    "  --m-input-file DADA2_subsample/CHBoral_PairedEndSeq_demux-subsample-denoising-stats.qza \\\n",
    "  --o-visualization DADA2_subsample/CHBoral_PairedEndSeq_demux-subsample-denoising-stats.qzv\n"
   ]
  },
  {
   "cell_type": "code",
   "execution_count": 25,
   "metadata": {},
   "outputs": [
    {
     "name": "stdout",
     "output_type": "stream",
     "text": [
      "Press the 'q' key, Control-C, or Control-D to quit. This view may no longer be accessible or work correctly after quitting.\n",
      "Press the 'q' key, Control-C, or Control-D to quit. This view may no longer be accessible or work correctly after quitting."
     ]
    }
   ],
   "source": [
    "'''View dada2 stats for subsampled demultiplexed seqs'''\n",
    "\n",
    "!qiime tools view CHBoral_PairedEndSeq_demux-subsample-denoising-stats.qzv\n",
    "\n"
   ]
  },
  {
   "cell_type": "markdown",
   "metadata": {},
   "source": [
    "#### Given that DADA2 was successful in execution for subsampled demultiplexed sequences, will not move forward with all the sequences."
   ]
  },
  {
   "cell_type": "code",
   "execution_count": 33,
   "metadata": {},
   "outputs": [
    {
     "name": "stdout",
     "output_type": "stream",
     "text": [
      "\u001b[32mSaved FeatureTable[Frequency] to: DADA2_full/CHBoral_PairedEndSeq_demux-full-table.qza\u001b[0m\n",
      "\u001b[32mSaved FeatureData[Sequence] to: DADA2_full/CHBoral_PairedEndSeq_demux-full-rep-seqs.qza\u001b[0m\n",
      "\u001b[32mSaved SampleData[DADA2Stats] to: DADA2_full/CHBoral_PairedEndSeq_demux-full-denoising-stats.qza\u001b[0m\n"
     ]
    }
   ],
   "source": [
    "'''Run DADA2 with same parameters as used for the subsampled seq'''\n",
    "\n",
    "!qiime dada2 denoise-paired \\\n",
    "  --i-demultiplexed-seqs CHBoral_PairedEndSeq_demux-full.qza \\\n",
    "  --p-trim-left-f 5 \\\n",
    "  --p-trim-left-r 5 \\\n",
    "  --p-trunc-len-f 240 \\\n",
    "  --p-trunc-len-r 240 \\\n",
    "  --o-table DADA2_full/CHBoral_PairedEndSeq_demux-full-table.qza \\\n",
    "  --o-representative-sequences DADA2_full/CHBoral_PairedEndSeq_demux-full-rep-seqs.qza \\\n",
    "  --o-denoising-stats DADA2_full/CHBoral_PairedEndSeq_demux-full-denoising-stats.qza\n"
   ]
  },
  {
   "cell_type": "code",
   "execution_count": 38,
   "metadata": {},
   "outputs": [
    {
     "name": "stdout",
     "output_type": "stream",
     "text": [
      "\u001b[32mSaved Visualization to: DADA2_full/CHBoral_PairedEndSeq_demux-full-table.qzv\u001b[0m\n",
      "\u001b[32mSaved Visualization to: DADA2_full/CHBoral_PairedEndSeq_demux-full-rep-seqs.qzv\u001b[0m\n",
      "\u001b[32mSaved Visualization to: DADA2_full/CHBoral_PairedEndSeq_demux-full-denoising-stats.qzv\u001b[0m\n"
     ]
    }
   ],
   "source": [
    "'''Generate summaries for DADA2 output'''\n",
    "\n",
    "!qiime feature-table summarize \\\n",
    "  --i-table DADA2_full/CHBoral_PairedEndSeq_demux-full-table.qza \\\n",
    "  --o-visualization DADA2_full/CHBoral_PairedEndSeq_demux-full-table.qzv \\\n",
    "  --m-sample-metadata-file mappingfile_NileshMehta_with_Metadata_062715_corrected.txt\n",
    "\n",
    "!qiime feature-table tabulate-seqs \\\n",
    "  --i-data DADA2_full/CHBoral_PairedEndSeq_demux-full-rep-seqs.qza \\\n",
    "  --o-visualization DADA2_full/CHBoral_PairedEndSeq_demux-full-rep-seqs.qzv\n",
    "\n",
    "!qiime metadata tabulate \\\n",
    "  --m-input-file DADA2_full/CHBoral_PairedEndSeq_demux-full-denoising-stats.qza \\\n",
    "  --o-visualization DADA2_full/CHBoral_PairedEndSeq_demux-full-denoising-stats.qzv\n"
   ]
  },
  {
   "cell_type": "code",
   "execution_count": 4,
   "metadata": {},
   "outputs": [
    {
     "name": "stdout",
     "output_type": "stream",
     "text": [
      "Press the 'q' key, Control-C, or Control-D to quit. This view may no longer be accessible or work correctly after quitting.\n",
      "Press the 'q' key, Control-C, or Control-D to quit. This view may no longer be accessible or work correctly after quitting."
     ]
    }
   ],
   "source": [
    "'''View dada2 stats for demultiplexed seqs'''\n",
    "\n",
    "# !qiime tools view DADA2_full/CHBoral_PairedEndSeq_demux-full-table.qzv\n",
    "\n",
    "!qiime tools view DADA2_full/CHBoral_PairedEndSeq_demux-full-rep-seqs.qzv\n",
    "\n"
   ]
  },
  {
   "cell_type": "markdown",
   "metadata": {},
   "source": [
    "Overall, after the DADA2 processing, average of ~45% of the sequences were retained per sample. Given the tutorials output with DADA2, our data did pretty well. This means that on average the samples have 61000 read pairs (min is ~13000 pairs and max is ~171000)."
   ]
  },
  {
   "cell_type": "markdown",
   "metadata": {},
   "source": [
    "### Filter features based on sequence length\n",
    "\n",
    "Filter features based on short sequence length: spot checked sequences by blasting short length sequences. This yielded irrelevant taxonomic assignments (i.e. human sequences). Filter out features with sequence length less than 390. \n",
    "\n",
    "To determine whether filtering based on feature frequency should be done, we will assign taxonomy first. Based on taxonomic classification of the rare ASVs, we can determine whether biologically speaking these features should be excluded or not.\n",
    "\n",
    "At this point, o filtering of features based on frequency will be performed. Rare ASVs (i.e. based on illumina MiSeq error rate of 0.1%) are those with features with frequency less than 0.001 of teh mean of all the feature frequencies. \n",
    "\n",
    "In the case of this of data, any features less than (2,480.3201483312732* 0.001) would be considered as rare ASVs. This means that features that occur less than 2.4 times (i.e. 53 out of 809 features) will be considered as rare ASVs. This is 6% of the features, which could have a huge impact on downstream data interpretations (pariticularly for diversity analyses)."
   ]
  },
  {
   "cell_type": "raw",
   "metadata": {},
   "source": [
    "'''Convert seqs file to a metadata file'''\n",
    "!qiime metadata tabulate \\\n",
    "  --m-input-file DADA2_full/CHBoral_PairedEndSeq_demux-full-rep-seqs.qza \\\n",
    "  --o-visualization DADA2_full/CHBoral_PairedEndSeq_demux-full-rep-seqs-tabulated-metadata.qzv\n"
   ]
  },
  {
   "cell_type": "raw",
   "metadata": {},
   "source": [
    "'''View tabulated metadta file'''\n",
    "\n",
    "!qiime tools view DADA2_full/CHBoral_PairedEndSeq_demux-full-rep-seqs-tabulated-metadata.qzv\n",
    "\n"
   ]
  },
  {
   "cell_type": "code",
   "execution_count": 64,
   "metadata": {},
   "outputs": [
    {
     "name": "stdout",
     "output_type": "stream",
     "text": [
      "\u001b[32mSaved FeatureData[Sequence] to: DADA2_full/CHBoral_PairedEndSeq_demux-full-L390-filtered-seqs.qza\u001b[0m\n",
      "\u001b[32mSaved Visualization to: DADA2_full/CHBoral_PairedEndSeq_demux-full-L390-filtered-seqs.qzv\u001b[0m\n"
     ]
    }
   ],
   "source": [
    "'''Filter for features with sequence length >390'''\n",
    "\n",
    "!qiime feature-table filter-seqs \\\n",
    "    --i-data DADA2_full/CHBoral_PairedEndSeq_demux-full-rep-seqs.qza \\\n",
    "    --m-metadata-file DADA2_full/CHBoral_PairedEndSeq_demux-full-rep-seqs.qza \\\n",
    "    --p-where 'length(sequence) > 390' \\\n",
    "    --o-filtered-data DADA2_full/CHBoral_PairedEndSeq_demux-full-L390-filtered-seqs.qza\n",
    "\n",
    "'''View new feature table for filtered seqs'''\n",
    "\n",
    "!qiime feature-table tabulate-seqs \\\n",
    "  --i-data DADA2_full/CHBoral_PairedEndSeq_demux-full-L390-filtered-seqs.qza \\\n",
    "  --o-visualization DADA2_full/CHBoral_PairedEndSeq_demux-full-L390-filtered-seqs.qzv\n",
    "\n"
   ]
  },
  {
   "cell_type": "code",
   "execution_count": 7,
   "metadata": {},
   "outputs": [
    {
     "name": "stdout",
     "output_type": "stream",
     "text": [
      "Press the 'q' key, Control-C, or Control-D to quit. This view may no longer be accessible or work correctly after quitting.\n",
      "Press the 'q' key, Control-C, or Control-D to quit. This view may no longer be accessible or work correctly after quitting."
     ]
    }
   ],
   "source": [
    "'''View dada2 stats for demultiplexed seqs'''\n",
    "\n",
    "!qiime tools view DADA2_full/CHBoral_PairedEndSeq_demux-full-L390-filtered-seqs.qzv\n"
   ]
  },
  {
   "cell_type": "code",
   "execution_count": 14,
   "metadata": {},
   "outputs": [
    {
     "name": "stdout",
     "output_type": "stream",
     "text": [
      "\u001b[32mSaved FeatureTable[Frequency] to: DADA2_full/CHBoral_PairedEndSeq_demux-full-L390-filtered-seqs-table.qza\u001b[0m\r\n"
     ]
    }
   ],
   "source": [
    "'''Filter feature table for features based on filtered seqs'''\n",
    "!qiime feature-table filter-features \\\n",
    "  --i-table DADA2_full/CHBoral_PairedEndSeq_demux-full-table.qza \\\n",
    "  --m-metadata-file DADA2_full/CHBoral_PairedEndSeq_demux-full-L390-filtered-seqs.qza \\\n",
    "  --o-filtered-table DADA2_full/CHBoral_PairedEndSeq_demux-full-L390-filtered-seqs-table.qza     \n"
   ]
  },
  {
   "cell_type": "code",
   "execution_count": 15,
   "metadata": {},
   "outputs": [
    {
     "name": "stdout",
     "output_type": "stream",
     "text": [
      "\u001b[32mSaved Visualization to: DADA2_full/CHBoral_PairedEndSeq_demux-full-L390-filtered-seqs-table.qzv\u001b[0m\r\n"
     ]
    }
   ],
   "source": [
    "'''Get feature summary for filtered table'''\n",
    "!qiime feature-table summarize \\\n",
    "  --i-table DADA2_full/CHBoral_PairedEndSeq_demux-full-L390-filtered-seqs-table.qza \\\n",
    "  --o-visualization DADA2_full/CHBoral_PairedEndSeq_demux-full-L390-filtered-seqs-table.qzv \\\n",
    "  --m-sample-metadata-file mappingfile_NileshMehta_with_Metadata_062715_corrected.txt\n"
   ]
  },
  {
   "cell_type": "code",
   "execution_count": 16,
   "metadata": {},
   "outputs": [
    {
     "name": "stdout",
     "output_type": "stream",
     "text": [
      "\u001b[32mSaved Visualization to: DADA2_full/CHBoral_PairedEndSeq_demux-full-L390-filtered-seqs-tabulated-metadata.qzv\u001b[0m\r\n"
     ]
    }
   ],
   "source": [
    "'''Convert filtered seqs file to a metadata file'''\n",
    "!qiime metadata tabulate \\\n",
    "  --m-input-file DADA2_full/CHBoral_PairedEndSeq_demux-full-L390-filtered-seqs-tabulated-metadata.qza \\\n",
    "  --o-visualization DADA2_full/CHBoral_PairedEndSeq_demux-full-L390-filtered-seqs-tabulated-metadata.qzv\n"
   ]
  },
  {
   "cell_type": "code",
   "execution_count": 13,
   "metadata": {},
   "outputs": [
    {
     "name": "stdout",
     "output_type": "stream",
     "text": [
      "Press the 'q' key, Control-C, or Control-D to quit. This view may no longer be accessible or work correctly after quitting.\n",
      "Press the 'q' key, Control-C, or Control-D to quit. This view may no longer be accessible or work correctly after quitting."
     ]
    }
   ],
   "source": [
    "'''View filtered seq tabulated metadta file'''\n",
    "\n",
    "!qiime tools view DADA2_full/CHBoral_PairedEndSeq_demux-full-L390-filtered-seqs-tabulated-metadata.qzv\n"
   ]
  },
  {
   "cell_type": "markdown",
   "metadata": {},
   "source": [
    "### Assign taxonomy"
   ]
  },
  {
   "cell_type": "markdown",
   "metadata": {},
   "source": [
    "Pre-fitted classifer was generated by Vanja (sept 1, 2020) using the SOP for creating QIIME2 taxonomic classifers (see link below) specific to the 341F and 806R primers. Specifically, she pulled out reference reads using Forsyth primers used from the SILVA_132_QIIME_release/taxonomy/16S_only/99/majority_taxonomy_7_levels.txt file; reference read lengths were maintained as 300bp min and 500bp max. She then generated a scikit-learn naive bayes classifier on these reference reads. \n",
    "\n",
    "Langille lab SOP:\n",
    "https://github.com/LangilleLab/microbiome_helper/wiki/Creating-QIIME-2-Taxonomic-Classifiers"
   ]
  },
  {
   "cell_type": "code",
   "execution_count": 1,
   "metadata": {},
   "outputs": [
    {
     "name": "stdout",
     "output_type": "stream",
     "text": [
      "\u001b[32mSaved FeatureData[Taxonomy] to: DADA2_full/taxa/classification.qza\u001b[0m\r\n"
     ]
    }
   ],
   "source": [
    "\"Assign taxonomy based on 16S V4/V5 region specific to 341F and 806R primers\"\n",
    "\n",
    "!qiime feature-classifier classify-sklearn \\\n",
    "  --i-reads DADA2_full/CHBoral_PairedEndSeq_demux-full-L390-filtered-seqs.qza \\\n",
    "  --i-classifier taxa_classifiers/classifier_silva_132_16S_v3v4.qza \\\n",
    "  --p-n-jobs 1 \\\n",
    "  --output-dir DADA2_full/taxa\n",
    "\n"
   ]
  },
  {
   "cell_type": "code",
   "execution_count": 3,
   "metadata": {},
   "outputs": [
    {
     "name": "stdout",
     "output_type": "stream",
     "text": [
      "\u001b[32mSaved Visualization to: DADA2_full/taxa/classification.qzv\u001b[0m\r\n"
     ]
    }
   ],
   "source": [
    "'''Convert taxonomy output to a visual'''\n",
    "\n",
    "!qiime metadata tabulate \\\n",
    "  --m-input-file DADA2_full/taxa/classification.qza \\\n",
    "  --o-visualization DADA2_full/taxa/classification.qzv"
   ]
  },
  {
   "cell_type": "markdown",
   "metadata": {},
   "source": [
    "Spot and sanity check to ensure that silva classifications and associate confidence values match Blast outputs.\n",
    "\n",
    "For feature ff7fb0808cab7342f2e2601407e38128, silva output was D_5__Atopobium with 99% confidence. The blast output was Atopobium parvulum strain (MT436645.1), partial sequence with 97% identity.\n",
    "\n"
   ]
  },
  {
   "cell_type": "code",
   "execution_count": 40,
   "metadata": {},
   "outputs": [
    {
     "name": "stdout",
     "output_type": "stream",
     "text": [
      "Press the 'q' key, Control-C, or Control-D to quit. This view may no longer be accessible or work correctly after quitting.\n",
      "Press the 'q' key, Control-C, or Control-D to quit. This view may no longer be accessible or work correctly after quitting."
     ]
    }
   ],
   "source": [
    "'''View silva classification outputs'''\n",
    "\n",
    "!qiime tools view DADA2_full/taxa/classification.qzv\n"
   ]
  },
  {
   "cell_type": "code",
   "execution_count": 6,
   "metadata": {},
   "outputs": [
    {
     "name": "stdout",
     "output_type": "stream",
     "text": [
      "Press the 'q' key, Control-C, or Control-D to quit. This view may no longer be accessible or work correctly after quitting.\n",
      "Press the 'q' key, Control-C, or Control-D to quit. This view may no longer be accessible or work correctly after quitting."
     ]
    }
   ],
   "source": [
    "'''View features to get blast results'''\n",
    "\n",
    "!qiime tools view DADA2_full/CHBoral_PairedEndSeq_demux-full-rep-seqs.qzv\n"
   ]
  },
  {
   "cell_type": "markdown",
   "metadata": {},
   "source": [
    "Spot checking to determine whether rare ASVs have biologically relevant taxonomic classifications and high associated confidenceMerge feature taxonomy with feature frequence\n",
    "\n",
    "Overall, the features with high sequence length have relevant classifications and high confidence values (99 confidence). Features wqith short sequence length (394bp) have relevant classifications but moderate confidence values (~80-89 confidence)\n",
    "\n",
    "Given this results, rare ASVs will not be excluded and will be kept for all downstream analyses including diversity.\n"
   ]
  },
  {
   "cell_type": "code",
   "execution_count": 52,
   "metadata": {},
   "outputs": [
    {
     "name": "stdout",
     "output_type": "stream",
     "text": [
      "\u001b[32mSaved Visualization to: DADA2_full/taxa/classification-bar-plots.qzv\u001b[0m\r\n"
     ]
    }
   ],
   "source": [
    "'''Visualize the taxaonomic composition as bar plots'''\n",
    "\n",
    "!qiime taxa barplot \\\n",
    "  --i-table DADA2_full/CHBoral_PairedEndSeq_demux-full-L390-filtered-seqs-table.qza \\\n",
    "  --i-taxonomy DADA2_full/taxa/classification.qza \\\n",
    "  --m-metadata-file mappingfile_NileshMehta_with_Metadata_062715_corrected.txt \\\n",
    "  --o-visualization DADA2_full/taxa/classification-bar-plots.qzv\n"
   ]
  },
  {
   "cell_type": "code",
   "execution_count": 53,
   "metadata": {},
   "outputs": [
    {
     "name": "stdout",
     "output_type": "stream",
     "text": [
      "Press the 'q' key, Control-C, or Control-D to quit. This view may no longer be accessible or work correctly after quitting.\n",
      "Press the 'q' key, Control-C, or Control-D to quit. This view may no longer be accessible or work correctly after quitting."
     ]
    }
   ],
   "source": [
    "'''View the visualization'''\n",
    "\n",
    "!qiime tools view DADA2_full/taxa/classification-bar-plots.qzv"
   ]
  },
  {
   "cell_type": "markdown",
   "metadata": {},
   "source": [
    "## Downstream Taxaonomy Analyses"
   ]
  },
  {
   "cell_type": "markdown",
   "metadata": {},
   "source": [
    "### Pull out sequences of interest for oligotyping analysis\n",
    "\n",
    "Given this analysis, all sequences with silva taxa classification of Pseduomonas will be extracted and inputted into the oligotyping analysis.\n"
   ]
  },
  {
   "cell_type": "code",
   "execution_count": 17,
   "metadata": {},
   "outputs": [
    {
     "name": "stdout",
     "output_type": "stream",
     "text": [
      "\u001b[32mSaved FeatureTable[Frequency] to: DADA2_full/taxa/oligotyping/CHBoral_PairedEndSeq_demux-full-L390-filtered-seqs-table-taxa-Pseudomonas.qza\u001b[0m\r\n"
     ]
    }
   ],
   "source": [
    "'''Merge feature frequences with feature taxonomies and filter for Pseudomonas'''\n",
    "\n",
    "# !mkdir DADA2_full/taxa/oligotyping\n",
    "\n",
    "\n",
    "!qiime taxa filter-table \\\n",
    "   --i-table DADA2_full/CHBoral_PairedEndSeq_demux-full-L390-filtered-seqs-table.qza \\\n",
    "   --i-taxonomy DADA2_full/taxa/classification.qza \\\n",
    "   --p-include Pseudomonas \\\n",
    "   --o-filtered-table DADA2_full/taxa/oligotyping/CHBoral_PairedEndSeq_demux-full-L390-filtered-seqs-table-taxa-Pseudomonas.qza\n"
   ]
  },
  {
   "cell_type": "code",
   "execution_count": 19,
   "metadata": {},
   "outputs": [
    {
     "name": "stdout",
     "output_type": "stream",
     "text": [
      "\u001b[32mSaved FeatureData[Sequence] to: DADA2_full/taxa/oligotyping/CHBoral_PairedEndSeq_demux-full-L390-filtered-seqs-taxa-Pseudomonas.qza\u001b[0m\r\n"
     ]
    }
   ],
   "source": [
    "'''Filter for sequences of those features that are classified at the genus level as Pseudomonas'''\n",
    "\n",
    "!qiime feature-table filter-seqs \\\n",
    "   --i-data DADA2_full/CHBoral_PairedEndSeq_demux-full-L390-filtered-seqs.qza \\\n",
    "   --i-table DADA2_full/taxa/oligotyping/CHBoral_PairedEndSeq_demux-full-L390-filtered-seqs-table-taxa-Pseudomonas.qza \\\n",
    "   --o-filtered-data DADA2_full/taxa/oligotyping/CHBoral_PairedEndSeq_demux-full-L390-filtered-seqs-taxa-Pseudomonas.qza\n"
   ]
  },
  {
   "cell_type": "code",
   "execution_count": 25,
   "metadata": {},
   "outputs": [
    {
     "name": "stdout",
     "output_type": "stream",
     "text": [
      "\u001b[32mSaved Visualization to: DADA2_full/taxa/oligotyping/CHBoral_PairedEndSeq_demux-full-L390-filtered-seqs-taxa-Pseudomonas.qzv\u001b[0m\r\n"
     ]
    }
   ],
   "source": [
    "'''Get metadata for pseudo fasta file'''\n",
    "!qiime feature-table tabulate-seqs \\\n",
    "  --i-data DADA2_full/taxa/oligotyping/CHBoral_PairedEndSeq_demux-full-L390-filtered-seqs-taxa-Pseudomonas.qza \\\n",
    "  --o-visualization DADA2_full/taxa/oligotyping/CHBoral_PairedEndSeq_demux-full-L390-filtered-seqs-taxa-Pseudomonas.qzv\n",
    "\n"
   ]
  },
  {
   "cell_type": "code",
   "execution_count": 26,
   "metadata": {},
   "outputs": [
    {
     "name": "stdout",
     "output_type": "stream",
     "text": [
      "Press the 'q' key, Control-C, or Control-D to quit. This view may no longer be accessible or work correctly after quitting.\n",
      "Press the 'q' key, Control-C, or Control-D to quit. This view may no longer be accessible or work correctly after quitting."
     ]
    }
   ],
   "source": [
    "'''View metadata for pseudo. fasta file'''\n",
    "\n",
    "!qiime tools view DADA2_full/taxa/oligotyping/CHBoral_PairedEndSeq_demux-full-L390-filtered-seqs-taxa-Pseudomonas.qzv\n"
   ]
  },
  {
   "cell_type": "code",
   "execution_count": 30,
   "metadata": {},
   "outputs": [
    {
     "name": "stdout",
     "output_type": "stream",
     "text": [
      "\u001b[32mSaved FeatureData[AlignedSequence] to: DADA2_full/taxa/oligotyping/CHBoral_PairedEndSeq_demux-full-L390-filtered-seqs-taxa-Pseudomonas-aligned.qza\u001b[0m\r\n"
     ]
    }
   ],
   "source": [
    "'''Get a de novo alignment of the silva reference seqs'''\n",
    "\n",
    "!qiime alignment mafft \\\n",
    "  --i-sequences DADA2_full/taxa/oligotyping/CHBoral_PairedEndSeq_demux-full-L390-filtered-seqs-taxa-Pseudomonas.qza \\\n",
    "  --o-alignment DADA2_full/taxa/oligotyping/CHBoral_PairedEndSeq_demux-full-L390-filtered-seqs-taxa-Pseudomonas-aligned.qza\n",
    "\n"
   ]
  },
  {
   "cell_type": "code",
   "execution_count": 39,
   "metadata": {},
   "outputs": [
    {
     "name": "stdout",
     "output_type": "stream",
     "text": [
      "\u001b[32mExported DADA2_full/taxa/oligotyping/CHBoral_PairedEndSeq_demux-full-L390-filtered-seqs-taxa-Pseudomonas-aligned.qza as AlignedDNASequencesDirectoryFormat to directory DADA2_full/taxa/oligotyping_CHBoral_PairedEndSeq_demux-full-L390-filtered-seqs-taxa-Pseudomonas-aligned\u001b[0m\r\n"
     ]
    }
   ],
   "source": [
    "'''Convert qza to fasta for oligotyping input'''\n",
    "\n",
    "!qiime tools export \\\n",
    "   --input-path DADA2_full/taxa/oligotyping/CHBoral_PairedEndSeq_demux-full-L390-filtered-seqs-taxa-Pseudomonas-aligned.qza \\\n",
    "   --output-path DADA2_full/taxa/oligotyping_CHBoral_PairedEndSeq_demux-full-L390-filtered-seqs-taxa-Pseudomonas-aligned\n",
    "\n"
   ]
  },
  {
   "cell_type": "code",
   "execution_count": 20,
   "metadata": {},
   "outputs": [
    {
     "name": "stdout",
     "output_type": "stream",
     "text": [
      "\u001b[32mSaved FeatureTable[Frequency] to: DADA2_full/taxa/CHBoral_PairedEndSeq_demux-full-L390-filtered-seqs-table-taxa7.qza\u001b[0m\r\n"
     ]
    }
   ],
   "source": [
    "'''Merge feature frequences with feature taxonomies collapsed at level 7 (species)'''\n",
    "\n",
    "!qiime taxa collapse \\\n",
    "  --i-table DADA2_full/CHBoral_PairedEndSeq_demux-full-L390-filtered-seqs-table.qza \\\n",
    "  --i-taxonomy DADA2_full/taxa/classification.qza \\\n",
    "  --p-level 7 \\\n",
    "  --o-collapsed-table DADA2_full/taxa/CHBoral_PairedEndSeq_demux-full-L390-filtered-seqs-table-taxa7.qza\n",
    "\n"
   ]
  },
  {
   "cell_type": "code",
   "execution_count": null,
   "metadata": {},
   "outputs": [],
   "source": []
  }
 ],
 "metadata": {
  "kernelspec": {
   "display_name": "Python 3",
   "language": "python",
   "name": "python3"
  },
  "language_info": {
   "codemirror_mode": {
    "name": "ipython",
    "version": 3
   },
   "file_extension": ".py",
   "mimetype": "text/x-python",
   "name": "python",
   "nbconvert_exporter": "python",
   "pygments_lexer": "ipython3",
   "version": "3.6.10"
  }
 },
 "nbformat": 4,
 "nbformat_minor": 2
}
