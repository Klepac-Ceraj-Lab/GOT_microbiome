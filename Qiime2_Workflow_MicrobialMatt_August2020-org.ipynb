{
 "cells": [
  {
   "cell_type": "markdown",
   "metadata": {},
   "source": [
    "# QIIME 2 Workflow for OGT paper:\n",
    "Adapted from Vanja's Qiime2_Workflow_MicrobialMatt_August2020 python notebook\n",
    "\n",
    "\n",
    "\n",
    "# This workflow was generated from LangilleLab workflow and Qiime Tutorials"
   ]
  },
  {
   "cell_type": "markdown",
   "metadata": {},
   "source": [
    "## Qiime 2 workflow\n",
    "\n",
    "For this particular dataset, argonne - I am using different primers from EMP.\n",
    "\n",
    "used Qiime2 and Langille lab tutorials to piece this together. There's definitely room for improvement.\n",
    "\n",
    "Qiime2 uses two different types of files that contain the data and metadata for the analysis (.qza and .qzv files). To see what type of data is contained in a data file, use the command qiime tools peek filename.qza. The files will contain basic info (name, universally unique identifier, data type and dataformat). the raw data in these files can be accessed using the command qiime tools export\n",
    "\n",
    "updated and ran in June 2020 using qiime2-2020.2 to process Danielle's ECHO 16S samples (130 of them)   \n"
   ]
  },
  {
   "cell_type": "code",
   "execution_count": 7,
   "metadata": {},
   "outputs": [
    {
     "name": "stdout",
     "output_type": "stream",
     "text": [
      "q2cli version 2020.6.0\r\n",
      "Run `qiime info` for more version details.\r\n"
     ]
    }
   ],
   "source": [
    "'''Activate qiime env'''\n",
    "# conda activate qiime2-2020.6 prior to opening jupyter notebook\n",
    "\n",
    "!qiime --version"
   ]
  },
  {
   "cell_type": "markdown",
   "metadata": {},
   "source": [
    "### “EMP protocol” multiplexed paired-end fastq\n",
    "\n",
    "Format description\n",
    "\n",
    "one forward.fastq.gz file that contains the forward sequence reads,\n",
    "\n",
    "one reverse.fastq.gz file that contains the reverse sequence reads,\n",
    "\n",
    "one barcodes.fastq.gz file that contains the associated barcode reads"
   ]
  },
  {
   "cell_type": "code",
   "execution_count": 13,
   "metadata": {},
   "outputs": [
    {
     "name": "stdout",
     "output_type": "stream",
     "text": [
      "\u001b[32mImported CHBoral_PairedEndSeq_rawdata/ as EMPPairedEndDirFmt to CHBoral_PairedEndSeq.qza\u001b[0m\r\n"
     ]
    }
   ],
   "source": [
    "'''Importing raw sequence files based on \"EMP protocol\" \\\n",
    "multiplexed paired-end fastq'''\n",
    "\n",
    "# NileshMeta_Undetermined_S0_L001_R1_001.fastq.gz --> forward.fastq.gz\n",
    "# NileshMeta_Undetermined_S0_L001_R2_001.fastq.gz --> reverse.fastq.gz\n",
    "# NileshMehta_Undetermined_S0_L001_I1_001.fastq.gz --> barcodes.fastq.gz\n",
    "\n",
    "\n",
    "!qiime tools import \\\n",
    "   --type EMPPairedEndSequences \\\n",
    "   --input-path CHBoral_PairedEndSeq_rawdata/ \\\n",
    "   --output-path CHBoral_PairedEndSeq.qza\n",
    "   "
   ]
  },
  {
   "cell_type": "markdown",
   "metadata": {},
   "source": [
    "## Demultiplex:\n",
    "#### We must demultiplex these reads to determine which sample each read came from.\n",
    "\n",
    "Demultiplexed using demux emp-paired using reverse primer sequence that has the barcode embedded."
   ]
  },
  {
   "cell_type": "code",
   "execution_count": 4,
   "metadata": {},
   "outputs": [
    {
     "name": "stdout",
     "output_type": "stream",
     "text": [
      "\u001b[32mSaved SampleData[PairedEndSequencesWithQuality] to: CHBoral_PairedEndSeq_demux-full.qza\u001b[0m\n",
      "\u001b[32mSaved ErrorCorrectionDetails to: CHBoral_PairedEndSeq_demux-details.qza\u001b[0m\n"
     ]
    }
   ],
   "source": [
    "'''Demultiplex paired end sequences'''\n",
    "# metadata file was renamed and reformated from SampleInfo_Nilesh Mehta 2Feb2015.xlsx\n",
    "\n",
    "!qiime demux emp-paired \\\n",
    "  --m-barcodes-file mappingfile_NileshMehta_with_Metadata_062715_corrected.txt \\\n",
    "  --m-barcodes-column BarcodeSequence \\\n",
    "  --p-rev-comp-mapping-barcodes True \\\n",
    "  --i-seqs CHBoral_PairedEndSeq.qza \\\n",
    "  --o-per-sample-sequences CHBoral_PairedEndSeq_demux-full.qza \\\n",
    "  --o-error-correction-details CHBoral_PairedEndSeq_demux-details.qza\n",
    "\n",
    "\n",
    "#  --p-rev-comp-mapping-barcodes True \\\n",
    "\n",
    "\n",
    "# !qiime demux emp-paired \\\n",
    "#   --m-barcodes-file MicrobialMat.tsv \\\n",
    "#   --m-barcodes-column BarcodeSequence \\\n",
    "#   --p-rev-comp-mapping-barcodes \\\n",
    "#   --i-seqs emp-paired-end-sequences.qza \\\n",
    "#   --o-per-sample-sequences demux-full.qza \\\n",
    "#   --o-error-correction-details demux-details.qza"
   ]
  },
  {
   "cell_type": "code",
   "execution_count": 6,
   "metadata": {},
   "outputs": [
    {
     "name": "stdout",
     "output_type": "stream",
     "text": [
      "\u001b[32mSaved Visualization to: CHBoral_PairedEndSeq_demux-full_qualities.qzv\u001b[0m\r\n"
     ]
    }
   ],
   "source": [
    "'''Summarize demultiplexed outputs'''\n",
    "\n",
    "!qiime demux summarize \\\n",
    "--i-data CHBoral_PairedEndSeq_demux-full.qza \\\n",
    "--o-visualization CHBoral_PairedEndSeq_demux-full_qualities.qzv\n",
    "\n",
    "\n",
    "# !qiime demux summarize \\\n",
    "# --i-data demux-full.qza \\\n",
    "# --o-visualization qualities.qzv"
   ]
  },
  {
   "cell_type": "code",
   "execution_count": 18,
   "metadata": {},
   "outputs": [
    {
     "name": "stdout",
     "output_type": "stream",
     "text": [
      "Press the 'q' key, Control-C, or Control-D to quit. This view may no longer be accessible or work correctly after quitting.\n",
      "Press the 'q' key, Control-C, or Control-D to quit. This view may no longer be accessible or work correctly after quitting."
     ]
    }
   ],
   "source": [
    "'''View summary of demultiplexed qualities'''\n",
    "\n",
    "!qiime tools view CHBoral_PairedEndSeq_demux-full_qualities.qzv\n"
   ]
  },
  {
   "cell_type": "raw",
   "metadata": {},
   "source": [
    "'''Get fastq stats for demultiplexed seqs'''\n",
    "\n",
    "!qiime vsearch fastq-stats \\\n",
    "  --i-sequences CHBoral_PairedEndSeq_demux-full.qza \\\n",
    "  --o-visualization CHBoral_PairedEndSeq_demux-full-stats.qzv"
   ]
  },
  {
   "cell_type": "raw",
   "metadata": {},
   "source": [
    "'''View fastq stats for demultiplexed seqs'''\n",
    "\n",
    "!qiime tools view CHBoral_PairedEndSeq_demux-full-stats.qzv\n"
   ]
  },
  {
   "cell_type": "markdown",
   "metadata": {},
   "source": [
    "#### Based on fastq stats all sequences are of >= 248bp this should allow for DADA2 run to be successful. This would provide ~31bp overlap between the 314F and 806R reads.\n",
    "\n",
    "However, given how slow DADA2 will run and that it overlap region of at least 12bp between the forward and reverse reads, we will subsample to ensure its success. "
   ]
  },
  {
   "cell_type": "code",
   "execution_count": 10,
   "metadata": {},
   "outputs": [
    {
     "name": "stdout",
     "output_type": "stream",
     "text": [
      "\u001b[32mSaved SampleData[PairedEndSequencesWithQuality] to: CHBoral_PairedEndSeq_demux-subsample.qza\u001b[0m\r\n"
     ]
    }
   ],
   "source": [
    "\"Subsample to ensure DADA2 run is succesful\"\n",
    "\n",
    "# will result in ~10,000 seqs per sample\n",
    "\n",
    "!qiime demux subsample-paired \\\n",
    "  --i-sequences CHBoral_PairedEndSeq_demux-full.qza \\\n",
    "  --p-fraction 0.08 \\\n",
    "  --o-subsampled-sequences CHBoral_PairedEndSeq_demux-subsample.qza\n"
   ]
  },
  {
   "cell_type": "code",
   "execution_count": 11,
   "metadata": {},
   "outputs": [
    {
     "name": "stdout",
     "output_type": "stream",
     "text": [
      "\u001b[32mSaved Visualization to: CHBoral_PairedEndSeq_demux-subsample.qzv\u001b[0m\r\n"
     ]
    }
   ],
   "source": [
    "'''Summarize subsampled demultiplexed qualities'''\n",
    "\n",
    "!qiime demux summarize \\\n",
    "  --i-data CHBoral_PairedEndSeq_demux-subsample.qza \\\n",
    "  --o-visualization CHBoral_PairedEndSeq_demux-subsample.qzv"
   ]
  },
  {
   "cell_type": "code",
   "execution_count": 63,
   "metadata": {},
   "outputs": [
    {
     "name": "stdout",
     "output_type": "stream",
     "text": [
      "Press the 'q' key, Control-C, or Control-D to quit. This view may no longer be accessible or work correctly after quitting.\n",
      "Press the 'q' key, Control-C, or Control-D to quit. This view may no longer be accessible or work correctly after quitting."
     ]
    }
   ],
   "source": [
    "'''View summary of subsampled demultiplexed qualities'''\n",
    "\n",
    "!qiime tools view CHBoral_PairedEndSeq_demux-subsample.qzv"
   ]
  },
  {
   "cell_type": "raw",
   "metadata": {},
   "source": [
    "'''Get fastq stats for subsampled demultiplexed seqs'''\n",
    "\n",
    "!qiime vsearch fastq-stats \\\n",
    "  --i-sequences CHBoral_PairedEndSeq_demux-subsample.qza \\\n",
    "  --o-visualization CHBoral_PairedEndSeq_demux-subsample-stats.qzv"
   ]
  },
  {
   "cell_type": "raw",
   "metadata": {},
   "source": [
    "'''View fastq stats for subsampled demultiplexed seqs'''\n",
    "\n",
    "!qiime tools view CHBoral_PairedEndSeq_demux-subsample-stats.qzv\n",
    "# length distrubution shows ~100% of the seqs are of length >=248bp"
   ]
  },
  {
   "cell_type": "markdown",
   "metadata": {},
   "source": [
    "#### Given that all sequences are of >= 248bp this should allow for DADA2 run to be successful. This would provide ~31bp overlap between the 314F and 806R reads."
   ]
  },
  {
   "cell_type": "raw",
   "metadata": {},
   "source": [
    "Reads should then be denoised into amplicon sequence variants (ASVs) or clustered into operational taxonomic units (OTUs) to achieve two goals:\n",
    "reducing sequence errors\n",
    "\n",
    "dereplicating sequences"
   ]
  },
  {
   "cell_type": "markdown",
   "metadata": {},
   "source": [
    "### Running DADA2 workflow which does the following:\n",
    "1. filter and trim the reads\n",
    "2. find the most likely original sequences in the sample (ASVs)\n",
    "3. remove chimeras:\n",
    "--p-chimera-method 'consensus': Chimeras are detected in samples individually, and sequences found chimeric in a sufficient fraction of samples are removed.  \n",
    "4. count the abundances"
   ]
  },
  {
   "cell_type": "markdown",
   "metadata": {},
   "source": [
    "Full length of the reads (>=~248bp) will give ~31 bp overlap \n",
    "\n",
    "For quality trimming in DADA2, a read length of ~>=240bp must be maintained to get a 15bp overlap. DADA2 requires at least 12 bp overlap over it will not work.\n",
    "\n",
    "Primer 806R is 20bp and primer 341F is 17bp. DADA2 expects primer-free reads and hence 20bp will be trimmed for forward and reverse reads. Higher number of bp is trimmed to reduce inaccuracies for ASV/OTUs.\n",
    "However, given that the quality of the first ~20 bp for forward and reverse reads is very high, I will trim the first 5bp only."
   ]
  },
  {
   "cell_type": "code",
   "execution_count": 21,
   "metadata": {},
   "outputs": [
    {
     "name": "stdout",
     "output_type": "stream",
     "text": [
      "\u001b[32mSaved FeatureTable[Frequency] to: CHBoral_PairedEndSeq_demux-subsample-table.qza\u001b[0m\r\n",
      "\u001b[32mSaved FeatureData[Sequence] to: CHBoral_PairedEndSeq_demux-subsample-rep-seqs.qza\u001b[0m\r\n",
      "\u001b[32mSaved SampleData[DADA2Stats] to: CHBoral_PairedEndSeq_demux-subsample-denoising-stats.qza\u001b[0m\r\n"
     ]
    }
   ],
   "source": [
    "#!qiime dada2 denoise-paired --i-demultiplexed-seqs reads_qza/reads_trimmed.qza \\\n",
    " #                          --p-trunc-len-f 270 \\\n",
    "  #                         --p-trunc-len-r 210 \\\n",
    "   #                        --p-max-ee-f 2 \\\n",
    "    #                       --p-max-ee-r 3 \\\n",
    "     #                      --p-n-threads 4 \\\n",
    "      #                     --output-dir dada2_output --verbose\n",
    "\n",
    "\n",
    "!qiime dada2 denoise-paired \\\n",
    "  --i-demultiplexed-seqs CHBoral_PairedEndSeq_demux-subsample.qza \\\n",
    "  --p-trim-left-f 5 \\\n",
    "  --p-trim-left-r 5 \\\n",
    "  --p-trunc-len-f 240 \\\n",
    "  --p-trunc-len-r 240 \\\n",
    "  --o-table DADA2_subsample/CHBoral_PairedEndSeq_demux-subsample-table.qza \\\n",
    "  --o-representative-sequences DADA2_subsample/CHBoral_PairedEndSeq_demux-subsample-rep-seqs.qza \\\n",
    "  --o-denoising-stats DADA2_subsample/CHBoral_PairedEndSeq_demux-subsample-denoising-stats.qza"
   ]
  },
  {
   "cell_type": "code",
   "execution_count": 39,
   "metadata": {},
   "outputs": [
    {
     "name": "stdout",
     "output_type": "stream",
     "text": [
      "\u001b[32mSaved Visualization to: DADA2_subsample/CHBoral_PairedEndSeq_demux-subsample-table.qzv\u001b[0m\n",
      "\u001b[32mSaved Visualization to: DADA2_subsample/CHBoral_PairedEndSeq_demux-subsample-rep-seqs.qzv\u001b[0m\n",
      "\u001b[32mSaved Visualization to: DADA2_subsample/CHBoral_PairedEndSeq_demux-subsample-denoising-stats.qzv\u001b[0m\n"
     ]
    }
   ],
   "source": [
    "'''Generate summaries for DADA2 output'''\n",
    "\n",
    "!qiime feature-table summarize \\\n",
    "  --i-table DADA2_subsample/CHBoral_PairedEndSeq_demux-subsample-table.qza \\\n",
    "  --o-visualization DADA2_subsample/CHBoral_PairedEndSeq_demux-subsample-table.qzv \\\n",
    "  --m-sample-metadata-file mappingfile_NileshMehta_with_Metadata_062715_corrected.txt\n",
    "\n",
    "!qiime feature-table tabulate-seqs \\\n",
    "  --i-data DADA2_subsample/CHBoral_PairedEndSeq_demux-subsample-rep-seqs.qza \\\n",
    "  --o-visualization DADA2_subsample/CHBoral_PairedEndSeq_demux-subsample-rep-seqs.qzv\n",
    "\n",
    "!qiime metadata tabulate \\\n",
    "  --m-input-file DADA2_subsample/CHBoral_PairedEndSeq_demux-subsample-denoising-stats.qza \\\n",
    "  --o-visualization DADA2_subsample/CHBoral_PairedEndSeq_demux-subsample-denoising-stats.qzv\n"
   ]
  },
  {
   "cell_type": "code",
   "execution_count": 25,
   "metadata": {},
   "outputs": [
    {
     "name": "stdout",
     "output_type": "stream",
     "text": [
      "Press the 'q' key, Control-C, or Control-D to quit. This view may no longer be accessible or work correctly after quitting.\n",
      "Press the 'q' key, Control-C, or Control-D to quit. This view may no longer be accessible or work correctly after quitting."
     ]
    }
   ],
   "source": [
    "'''View dada2 stats for subsampled demultiplexed seqs'''\n",
    "\n",
    "!qiime tools view CHBoral_PairedEndSeq_demux-subsample-denoising-stats.qzv\n",
    "\n"
   ]
  },
  {
   "cell_type": "markdown",
   "metadata": {},
   "source": [
    "#### Given that DADA2 was successful in execution for subsampled demultiplexed sequences, will not move forward with all the sequences."
   ]
  },
  {
   "cell_type": "code",
   "execution_count": 33,
   "metadata": {},
   "outputs": [
    {
     "name": "stdout",
     "output_type": "stream",
     "text": [
      "\u001b[32mSaved FeatureTable[Frequency] to: DADA2_full/CHBoral_PairedEndSeq_demux-full-table.qza\u001b[0m\n",
      "\u001b[32mSaved FeatureData[Sequence] to: DADA2_full/CHBoral_PairedEndSeq_demux-full-rep-seqs.qza\u001b[0m\n",
      "\u001b[32mSaved SampleData[DADA2Stats] to: DADA2_full/CHBoral_PairedEndSeq_demux-full-denoising-stats.qza\u001b[0m\n"
     ]
    }
   ],
   "source": [
    "'''Run DADA2 with same parameters as used for the subsampled seq'''\n",
    "\n",
    "!qiime dada2 denoise-paired \\\n",
    "  --i-demultiplexed-seqs CHBoral_PairedEndSeq_demux-full.qza \\\n",
    "  --p-trim-left-f 5 \\\n",
    "  --p-trim-left-r 5 \\\n",
    "  --p-trunc-len-f 240 \\\n",
    "  --p-trunc-len-r 240 \\\n",
    "  --o-table DADA2_full/CHBoral_PairedEndSeq_demux-full-table.qza \\\n",
    "  --o-representative-sequences DADA2_full/CHBoral_PairedEndSeq_demux-full-rep-seqs.qza \\\n",
    "  --o-denoising-stats DADA2_full/CHBoral_PairedEndSeq_demux-full-denoising-stats.qza\n"
   ]
  },
  {
   "cell_type": "code",
   "execution_count": 38,
   "metadata": {},
   "outputs": [
    {
     "name": "stdout",
     "output_type": "stream",
     "text": [
      "\u001b[32mSaved Visualization to: DADA2_full/CHBoral_PairedEndSeq_demux-full-table.qzv\u001b[0m\n",
      "\u001b[32mSaved Visualization to: DADA2_full/CHBoral_PairedEndSeq_demux-full-rep-seqs.qzv\u001b[0m\n",
      "\u001b[32mSaved Visualization to: DADA2_full/CHBoral_PairedEndSeq_demux-full-denoising-stats.qzv\u001b[0m\n"
     ]
    }
   ],
   "source": [
    "'''Generate summaries for DADA2 output'''\n",
    "\n",
    "!qiime feature-table summarize \\\n",
    "  --i-table DADA2_full/CHBoral_PairedEndSeq_demux-full-table.qza \\\n",
    "  --o-visualization DADA2_full/CHBoral_PairedEndSeq_demux-full-table.qzv \\\n",
    "  --m-sample-metadata-file mappingfile_NileshMehta_with_Metadata_062715_corrected.txt\n",
    "\n",
    "!qiime feature-table tabulate-seqs \\\n",
    "  --i-data DADA2_full/CHBoral_PairedEndSeq_demux-full-rep-seqs.qza \\\n",
    "  --o-visualization DADA2_full/CHBoral_PairedEndSeq_demux-full-rep-seqs.qzv\n",
    "\n",
    "!qiime metadata tabulate \\\n",
    "  --m-input-file DADA2_full/CHBoral_PairedEndSeq_demux-full-denoising-stats.qza \\\n",
    "  --o-visualization DADA2_full/CHBoral_PairedEndSeq_demux-full-denoising-stats.qzv\n"
   ]
  },
  {
   "cell_type": "code",
   "execution_count": 67,
   "metadata": {},
   "outputs": [
    {
     "name": "stdout",
     "output_type": "stream",
     "text": [
      "Press the 'q' key, Control-C, or Control-D to quit. This view may no longer be accessible or work correctly after quitting.\n",
      "Press the 'q' key, Control-C, or Control-D to quit. This view may no longer be accessible or work correctly after quitting."
     ]
    }
   ],
   "source": [
    "'''View dada2 stats for demultiplexed seqs'''\n",
    "\n",
    "!qiime tools view DADA2_full/CHBoral_PairedEndSeq_demux-full-rep-seqs.qzv\n",
    "\n"
   ]
  },
  {
   "cell_type": "markdown",
   "metadata": {},
   "source": [
    "Overall, after the DADA2 processing, average of ~45% of the sequences were retained per sample. Given the tutorials output with DADA2, our data did pretty well. This means that on average the samples have 61000 read pairs (min is ~13000 pairs and max is ~171000)."
   ]
  },
  {
   "cell_type": "markdown",
   "metadata": {},
   "source": [
    "### Filter features based on sequence length\n",
    "\n",
    "Filter features based on short sequence length: spot checked sequences by blasting short length sequences. This yielded irrelevant taxonomic assignments (i.e. human sequences). Filter out features with sequence length less than 390. \n",
    "\n",
    "To determine whether filtering based on feature frequency should be done, we will assign taxonomy first. Based on taxonomic classification of the rare ASVs, we can determine whether biologically speaking these features should be excluded or not.\n",
    "\n",
    "At this point, o filtering of features based on frequency will be performed. Rare ASVs (i.e. based on illumina MiSeq error rate of 0.1%) are those with features with frequency less than 0.001 of teh mean of all the feature frequencies. \n",
    "\n",
    "In the case of this of data, any features less than (2,480.3201483312732* 0.001) would be considered as rare ASVs. This means that features that occur less than 2.4 times (i.e. 53 out of 809 features) will be considered as rare ASVs. This is 6% of the features, which could have a huge impact on downstream data interpretations (pariticularly for diversity analyses)."
   ]
  },
  {
   "cell_type": "code",
   "execution_count": 64,
   "metadata": {},
   "outputs": [
    {
     "name": "stdout",
     "output_type": "stream",
     "text": [
      "\u001b[32mSaved FeatureData[Sequence] to: DADA2_full/CHBoral_PairedEndSeq_demux-full-L390-filtered-seqs.qza\u001b[0m\n",
      "\u001b[32mSaved Visualization to: DADA2_full/CHBoral_PairedEndSeq_demux-full-L390-filtered-seqs.qzv\u001b[0m\n"
     ]
    }
   ],
   "source": [
    "'''Filter for features with sequence length >390'''\n",
    "\n",
    "!qiime feature-table filter-seqs \\\n",
    "    --i-data DADA2_full/CHBoral_PairedEndSeq_demux-full-rep-seqs.qza \\\n",
    "    --m-metadata-file DADA2_full/CHBoral_PairedEndSeq_demux-full-rep-seqs.qza \\\n",
    "    --p-where 'length(sequence) > 390' \\\n",
    "    --o-filtered-data DADA2_full/CHBoral_PairedEndSeq_demux-full-L390-filtered-seqs.qza\n",
    "\n",
    "'''View new feature table for filtered seqs'''\n",
    "\n",
    "!qiime feature-table tabulate-seqs \\\n",
    "  --i-data DADA2_full/CHBoral_PairedEndSeq_demux-full-L390-filtered-seqs.qza \\\n",
    "  --o-visualization DADA2_full/CHBoral_PairedEndSeq_demux-full-L390-filtered-seqs.qzv\n",
    "\n"
   ]
  },
  {
   "cell_type": "code",
   "execution_count": 65,
   "metadata": {},
   "outputs": [
    {
     "name": "stdout",
     "output_type": "stream",
     "text": [
      "Press the 'q' key, Control-C, or Control-D to quit. This view may no longer be accessible or work correctly after quitting.\n",
      "Press the 'q' key, Control-C, or Control-D to quit. This view may no longer be accessible or work correctly after quitting."
     ]
    }
   ],
   "source": [
    "'''View dada2 stats for demultiplexed seqs'''\n",
    "\n",
    "!qiime tools view DADA2_full/CHBoral_PairedEndSeq_demux-full-L390-filtered-seqs.qzv\n"
   ]
  },
  {
   "cell_type": "markdown",
   "metadata": {},
   "source": [
    "### Assign taxonomy"
   ]
  },
  {
   "cell_type": "code",
   "execution_count": 78,
   "metadata": {},
   "outputs": [
    {
     "name": "stdout",
     "output_type": "stream",
     "text": [
      "^C\r\n",
      "\r\n",
      "Aborted!\r\n"
     ]
    }
   ],
   "source": [
    "\"Assign taxonomy based on 16S V4/V5 region specific to 341F and 806R primers\"\n",
    "\n",
    "!qiime feature-classifier classify-sklearn \\\n",
    "  --i-reads DADA2_full/CHBoral_PairedEndSeq_demux-full-L390-filtered-seqs.qza \\\n",
    "  --i-classifier taxa_classifiers/classifier_silva_132_16S_v3v4.qza \\\n",
    "  --p-n-jobs 1 \\\n",
    "  --output-dir DADA2_full/taxa  \n",
    "\n"
   ]
  },
  {
   "cell_type": "code",
   "execution_count": null,
   "metadata": {},
   "outputs": [],
   "source": []
  },
  {
   "cell_type": "code",
   "execution_count": null,
   "metadata": {},
   "outputs": [],
   "source": []
  },
  {
   "cell_type": "markdown",
   "metadata": {},
   "source": [
    "### Generate a tree for phylogenetic diversity analyses"
   ]
  },
  {
   "cell_type": "code",
   "execution_count": 68,
   "metadata": {
    "scrolled": true
   },
   "outputs": [
    {
     "name": "stdout",
     "output_type": "stream",
     "text": [
      "Usage: \u001b[34mqiime phylogeny align-to-tree-mafft-fasttree\u001b[0m [OPTIONS]\r\n",
      "\r\n",
      "  This pipeline will start by creating a sequence alignment using MAFFT,\r\n",
      "  after which any alignment columns that are phylogenetically uninformative\r\n",
      "  or ambiguously aligned will be removed (masked). The resulting masked\r\n",
      "  alignment will be used to infer a phylogenetic tree and then subsequently\r\n",
      "  rooted at its midpoint. Output files from each step of the pipeline will\r\n",
      "  be saved. This includes both the unmasked and masked MAFFT alignment from\r\n",
      "  q2-alignment methods, and both the rooted and unrooted phylogenies from\r\n",
      "  q2-phylogeny methods.\r\n",
      "\r\n",
      "\u001b[1mInputs\u001b[0m:\r\n",
      "  \u001b[34m\u001b[4m--i-sequences\u001b[0m ARTIFACT \u001b[32mFeatureData[Sequence]\u001b[0m\r\n",
      "                          The sequences to be used for creating a fasttree\r\n",
      "                          based rooted phylogenetic tree.           \u001b[35m[required]\u001b[0m\r\n",
      "\u001b[1mParameters\u001b[0m:\r\n",
      "  \u001b[34m--p-n-threads\u001b[0m VALUE \u001b[32mInt % Range(1, None) | Str % Choices('auto')\u001b[0m\r\n",
      "                          The number of threads. (Use `auto` to automatically\r\n",
      "                          use all available cores) This value is used when\r\n",
      "                          aligning the sequences and creating the tree with\r\n",
      "                          fasttree.                               \u001b[35m[default: 1]\u001b[0m\r\n",
      "  \u001b[34m--p-mask-max-gap-frequency\u001b[0m PROPORTION \u001b[32mRange(0, 1, inclusive_end=True)\u001b[0m\r\n",
      "                          The maximum relative frequency of gap characters in\r\n",
      "                          a column for the column to be retained. This\r\n",
      "                          relative frequency must be a number between 0.0 and\r\n",
      "                          1.0 (inclusive), where 0.0 retains only those\r\n",
      "                          columns without gap characters, and 1.0 retains all\r\n",
      "                          columns  regardless of gap character frequency. This\r\n",
      "                          value is used when masking the aligned sequences.\r\n",
      "                                                                \u001b[35m[default: 1.0]\u001b[0m\r\n",
      "  \u001b[34m--p-mask-min-conservation\u001b[0m PROPORTION \u001b[32mRange(0, 1, inclusive_end=True)\u001b[0m\r\n",
      "                          The minimum relative frequency of at least one\r\n",
      "                          non-gap character in a column for that column to be\r\n",
      "                          retained. This relative frequency must be a number\r\n",
      "                          between 0.0 and 1.0 (inclusive). For example, if a\r\n",
      "                          value of  0.4 is provided, a column will only be\r\n",
      "                          retained  if it contains at least one character that\r\n",
      "                          is present in at least 40% of the sequences. This\r\n",
      "                          value is used when masking the aligned sequences.\r\n",
      "                                                                \u001b[35m[default: 0.4]\u001b[0m\r\n",
      "  \u001b[34m--p-parttree\u001b[0m / \u001b[34m--p-no-parttree\u001b[0m\r\n",
      "                          This flag is required if the number of sequences\r\n",
      "                          being aligned are larger than 1000000. Disabled by\r\n",
      "                          default.                            \u001b[35m[default: False]\u001b[0m\r\n",
      "\u001b[1mOutputs\u001b[0m:\r\n",
      "  \u001b[34m\u001b[4m--o-alignment\u001b[0m ARTIFACT \u001b[32mFeatureData[AlignedSequence]\u001b[0m\r\n",
      "                          The aligned sequences.                    \u001b[35m[required]\u001b[0m\r\n",
      "  \u001b[34m\u001b[4m--o-masked-alignment\u001b[0m ARTIFACT \u001b[32mFeatureData[AlignedSequence]\u001b[0m\r\n",
      "                          The masked alignment.                     \u001b[35m[required]\u001b[0m\r\n",
      "  \u001b[34m\u001b[4m--o-tree\u001b[0m ARTIFACT       The unrooted phylogenetic tree.\r\n",
      "    \u001b[32mPhylogeny[Unrooted]\u001b[0m                                             \u001b[35m[required]\u001b[0m\r\n",
      "  \u001b[34m\u001b[4m--o-rooted-tree\u001b[0m ARTIFACT\r\n",
      "    \u001b[32mPhylogeny[Rooted]\u001b[0m     The rooted phylogenetic tree.             \u001b[35m[required]\u001b[0m\r\n",
      "\u001b[1mMiscellaneous\u001b[0m:\r\n",
      "  \u001b[34m--output-dir\u001b[0m PATH       Output unspecified results to a directory\r\n",
      "  \u001b[34m--verbose\u001b[0m / \u001b[34m--quiet\u001b[0m     Display verbose output to stdout and/or stderr\r\n",
      "                          during execution of this action. Or silence output\r\n",
      "                          if execution is successful (silence is golden).\r\n",
      "  \u001b[34m--examples\u001b[0m              Show usage examples and exit.\r\n",
      "  \u001b[34m--citations\u001b[0m             Show citations and exit.\r\n",
      "  \u001b[34m--help\u001b[0m                  Show this message and exit.\r\n",
      "\r\n",
      "\u001b[33m                    There was a problem with the command:                     \u001b[0m\r\n",
      "\u001b[31m\u001b[1m (1/1) Invalid value for '--i-sequences':\r\n",
      "  'DADA2_full/CHBoral_PairedEndSeq_demux-full-L390-filtered-seqs.qzv' is a\r\n",
      "  QIIME 2 visualization (.qzv), not an  Artifact (.qza)  (There is an artifact\r\n",
      "  with the same name: 'CHBoral_PairedEndSeq_demux-full-L390-filtered-\r\n",
      "  seqs.qza', did you mean that?)\u001b[0m\r\n"
     ]
    }
   ],
   "source": [
    "'''Build phylogentic tree using fasttree and mafft alignment \\\n",
    "for downstream analyses related to diversity'''\n",
    "\n",
    "!qiime phylogeny align-to-tree-mafft-fasttree \\\n",
    "  --i-sequences DADA2_full/CHBoral_PairedEndSeq_demux-full-L390-filtered-seqs.qzv \\\n",
    "  --o-alignment DADA2_full/tree_outdir/CHBoral_PairedEndSeq_demux-full-L390-filtered-aligned-rep-seqs.qza \\\n",
    "  --o-masked-alignment DADA2_full/tree_outdir/CHBoral_PairedEndSeq_demux-full-L390-filtered-masked-aligned-rep-seqs.qza \\\n",
    "  --o-tree DADA2_full/tree_outdir/CHBoral_PairedEndSeq_demux-full-L390-filtered-unrooted-tree.qza \\\n",
    "  --o-rooted-tree DADA2_full/tree_outdir/CHBoral_PairedEndSeq_demux-full-L390-filtered-rooted-tree.qza\n",
    "\n"
   ]
  },
  {
   "cell_type": "markdown",
   "metadata": {},
   "source": [
    "### Generate rarefaction curves"
   ]
  },
  {
   "cell_type": "code",
   "execution_count": null,
   "metadata": {},
   "outputs": [],
   "source": []
  },
  {
   "cell_type": "markdown",
   "metadata": {},
   "source": [
    "Filter out features with Convert stats QZA to TSV to downselect for those features that have a seuqence length >390bp."
   ]
  },
  {
   "cell_type": "code",
   "execution_count": 60,
   "metadata": {},
   "outputs": [
    {
     "name": "stdout",
     "output_type": "stream",
     "text": [
      "descriptive_stats.tsv    \u001b[34mjs\u001b[m\u001b[m                       sequences.fasta\r\n",
      "index.html               \u001b[34mq2templateassets\u001b[m\u001b[m         seven_number_summary.tsv\r\n"
     ]
    }
   ],
   "source": [
    "!ls DADA2_full/CHBoral_PairedEndSeq_demux-full-rep-seqs\n"
   ]
  },
  {
   "cell_type": "code",
   "execution_count": 62,
   "metadata": {},
   "outputs": [
    {
     "name": "stdout",
     "output_type": "stream",
     "text": [
      "Quantile        Value\n",
      "0.02    252\n",
      "0.09    394\n",
      "0.25    398\n",
      "0.5     414\n",
      "0.75    419\n",
      "0.91    419\n",
      "0.98    420\n",
      "\u001b[K\u001b[7m(END)\u001b[m\u001b[K_PairedEndSeq_demux-full-rep-seqs/seven_number_summary.tsv (END)\u001b[m\u001b[K\u0007"
     ]
    }
   ],
   "source": [
    "!less DADA2_full/CHBoral_PairedEndSeq_demux-full-rep-seqs/seven_number_summary.tsv\n"
   ]
  },
  {
   "cell_type": "markdown",
   "metadata": {},
   "source": [
    "Summarize output table -- You should use this visualization to decide how to filter your table and also if you want to rarefy your data (which simplifies your analyses, but throws out data!) you can choose a cut-off based on this file."
   ]
  },
  {
   "cell_type": "code",
   "execution_count": 30,
   "metadata": {},
   "outputs": [
    {
     "name": "stdout",
     "output_type": "stream",
     "text": [
      "\u001b[32mSaved Visualization to: dada2_output/table_summary.qzv\u001b[0m\r\n"
     ]
    }
   ],
   "source": [
    "!qiime feature-table summarize --i-table dada2_output/table.qza --o-visualization dada2_output/table_summary.qzv\n",
    "\n"
   ]
  },
  {
   "cell_type": "markdown",
   "metadata": {},
   "source": [
    "Filtering out rare ASVs -- Based on the above summary visualization you can choose a cut-off for how frequent a variant needs to be (and optionally how many samples need to have the variant) for it to be retained. One possible choice would be to remove all ASVs that have a frequency of less than 0.1% of the mean sample depth. This cut-off excludes ASVs that are likely due to MiSeq bleed-through between runs (reported by Illumina to be 0.1% of reads).\n"
   ]
  },
  {
   "cell_type": "code",
   "execution_count": 31,
   "metadata": {},
   "outputs": [
    {
     "name": "stdout",
     "output_type": "stream",
     "text": [
      "\u001b[32mSaved FeatureTable[Frequency] to: dada2_output/table_filt.qza\u001b[0m\r\n"
     ]
    }
   ],
   "source": [
    "!qiime feature-table filter-features --i-table dada2_output/table.qza \\\n",
    "                                    --p-min-frequency 2 \\\n",
    "                                    --p-min-samples 2 \\\n",
    "                                    --o-filtered-table dada2_output/table_filt.qza"
   ]
  },
  {
   "cell_type": "markdown",
   "metadata": {},
   "source": [
    "Since the ASVs will be in a separate FASTA file you can exclude the low frequency ASVs from the sequence file with this command:"
   ]
  },
  {
   "cell_type": "code",
   "execution_count": 35,
   "metadata": {},
   "outputs": [
    {
     "name": "stdout",
     "output_type": "stream",
     "text": [
      "\u001b[32mSaved FeatureData[Sequence] to: dada2_output/rep_seqs_filt.qza\u001b[0m\r\n"
     ]
    }
   ],
   "source": [
    "!qiime feature-table filter-seqs --i-data dada2_output/rep-seqs.qza \\\n",
    "                                --i-table dada2_output/table_filt.qza \\\n",
    "                                --o-filtered-data dada2_output/rep_seqs_filt.qza"
   ]
  },
  {
   "cell_type": "code",
   "execution_count": 36,
   "metadata": {},
   "outputs": [
    {
     "name": "stdout",
     "output_type": "stream",
     "text": [
      "\u001b[32mSaved Visualization to: dada2_output/table_filt_summary.qzv\u001b[0m\r\n"
     ]
    }
   ],
   "source": [
    "!qiime feature-table summarize --i-table dada2_output/table_filt.qza --o-visualization dada2_output/table_filt_summary.qzv\n",
    "\n",
    "\n"
   ]
  },
  {
   "cell_type": "markdown",
   "metadata": {},
   "source": [
    "## Assign taxonomy\n",
    "You can assign taxonomy to your ASVs using a Naive-Bayes approach implemented in the scikit learn Python library and the SILVA database. Note that we have trained classifiers for a few different amplicon regions already (which are available in the /home/shared/taxa_classifiers folder), but you will need to generate your own if your region of interest isn't there. The classifier filename below is for the V6/V8 B969F-BA1406R region. The regions that we have trained classifiers for are:"
   ]
  },
  {
   "cell_type": "code",
   "execution_count": 18,
   "metadata": {},
   "outputs": [
    {
     "name": "stdout",
     "output_type": "stream",
     "text": [
      "\r\n",
      "CommandNotFoundError: Your shell has not been properly configured to use 'conda activate'.\r\n",
      "To initialize your shell, run\r\n",
      "\r\n",
      "    $ conda init <SHELL_NAME>\r\n",
      "\r\n",
      "Currently supported shells are:\r\n",
      "  - bash\r\n",
      "  - fish\r\n",
      "  - tcsh\r\n",
      "  - xonsh\r\n",
      "  - zsh\r\n",
      "  - powershell\r\n",
      "\r\n",
      "See 'conda init --help' for more information and options.\r\n",
      "\r\n",
      "IMPORTANT: You may need to close and restart your shell after running 'conda init'.\r\n",
      "\r\n",
      "\r\n"
     ]
    }
   ],
   "source": []
  },
  {
   "cell_type": "code",
   "execution_count": 37,
   "metadata": {},
   "outputs": [
    {
     "name": "stdout",
     "output_type": "stream",
     "text": [
      "\u001b[32mSaved FeatureData[Taxonomy] to: taxa/classification.qza\u001b[0m\r\n"
     ]
    }
   ],
   "source": [
    "!qiime feature-classifier classify-sklearn --i-reads dada2_output/rep_seqs_filt.qza \\\n",
    "                                          --i-classifier /Users/vklepacc/classifiers/classifier_silva_132_99_16S_V4.V5_515F_926R.qza \\\n",
    "                                          --p-n-jobs 4 \\\n",
    "                                          --output-dir taxa  "
   ]
  },
  {
   "cell_type": "markdown",
   "metadata": {},
   "source": [
    "As with all QZA files, you can export the output file to take a look at the classifications and confidence scores:"
   ]
  },
  {
   "cell_type": "code",
   "execution_count": 38,
   "metadata": {},
   "outputs": [
    {
     "name": "stdout",
     "output_type": "stream",
     "text": [
      "\u001b[32mExported taxa/classification.qza as TSVTaxonomyDirectoryFormat to directory taxa\u001b[0m\r\n"
     ]
    }
   ],
   "source": [
    "!qiime tools export \\\n",
    "   --input-path taxa/classification.qza --output-path taxa"
   ]
  },
  {
   "cell_type": "code",
   "execution_count": 42,
   "metadata": {},
   "outputs": [
    {
     "name": "stdout",
     "output_type": "stream",
     "text": [
      "\u001b[32mSaved Visualization to: dada2_output/representative-seqs.qzv\u001b[0m\r\n"
     ]
    }
   ],
   "source": [
    "!qiime feature-table tabulate-seqs --i-data dada2_output/rep-seqs.qza \\\n",
    "                                  --o-visualization dada2_output/representative-seqs.qzv"
   ]
  },
  {
   "cell_type": "markdown",
   "metadata": {},
   "source": [
    "A more useful output is the interactive stacked bar-charts of the taxonomic abundances across samples, which can be output with this command:"
   ]
  },
  {
   "cell_type": "code",
   "execution_count": 43,
   "metadata": {},
   "outputs": [
    {
     "name": "stdout",
     "output_type": "stream",
     "text": [
      "\u001b[32mSaved Visualization to: taxa/taxa_barplot.qzv\u001b[0m\r\n"
     ]
    }
   ],
   "source": [
    "!qiime taxa barplot --i-table dada2_output/table_filt.qza \\\n",
    "                   --i-taxonomy taxa/classification.qza \\\n",
    "                   --m-metadata-file MicrobialMat2.tsv \\\n",
    "                   --o-visualization taxa/taxa_barplot.qzv"
   ]
  },
  {
   "cell_type": "markdown",
   "metadata": {},
   "source": [
    "## Build quick phylogeny with FastTree\n",
    "1. make multiple-sequence alignment using MAFFT"
   ]
  },
  {
   "cell_type": "code",
   "execution_count": 44,
   "metadata": {},
   "outputs": [],
   "source": [
    "!mkdir tree_out"
   ]
  },
  {
   "cell_type": "code",
   "execution_count": 45,
   "metadata": {},
   "outputs": [
    {
     "name": "stdout",
     "output_type": "stream",
     "text": [
      "\u001b[32mSaved FeatureData[AlignedSequence] to: tree_out/rep_seqs_filt_aligned.qza\u001b[0m\r\n"
     ]
    }
   ],
   "source": [
    "!qiime alignment mafft --i-sequences dada2_output/rep_seqs_filt.qza \\\n",
    "                      --p-n-threads 4 \\\n",
    "                      --o-alignment tree_out/rep_seqs_filt_aligned.qza"
   ]
  },
  {
   "cell_type": "markdown",
   "metadata": {},
   "source": [
    "filtering multiple-sequence alignment"
   ]
  },
  {
   "cell_type": "code",
   "execution_count": 47,
   "metadata": {},
   "outputs": [
    {
     "name": "stdout",
     "output_type": "stream",
     "text": [
      "\u001b[32mSaved FeatureData[AlignedSequence] to: tree_out/rep_seqs_filt_aligned_masked.qza\u001b[0m\r\n"
     ]
    }
   ],
   "source": [
    "!qiime alignment mask --i-alignment tree_out/rep_seqs_filt_aligned.qza \\\n",
    "  --o-masked-alignment tree_out/rep_seqs_filt_aligned_masked.qza"
   ]
  },
  {
   "cell_type": "markdown",
   "metadata": {},
   "source": [
    "## Running FastTree\n",
    "Finally FastTree can be run on this masked multiple-sequence alignment:"
   ]
  },
  {
   "cell_type": "code",
   "execution_count": 48,
   "metadata": {},
   "outputs": [
    {
     "name": "stdout",
     "output_type": "stream",
     "text": [
      "\u001b[32mSaved Phylogeny[Unrooted] to: tree_out/rep_seqs_filt_aligned_masked_tree.qza\u001b[0m\r\n"
     ]
    }
   ],
   "source": [
    "!qiime phylogeny fasttree --i-alignment tree_out/rep_seqs_filt_aligned_masked.qza \\\n",
    "                         --p-n-threads 4 \\\n",
    "                         --o-tree tree_out/rep_seqs_filt_aligned_masked_tree"
   ]
  },
  {
   "cell_type": "markdown",
   "metadata": {},
   "source": [
    "Add root to tree\n",
    "FastTree returns an unrooted tree. One basic way to add a root to a tree is to add it add it at the midpoint of the largest tip-to-tip distance in the tree, which is done with this command:"
   ]
  },
  {
   "cell_type": "code",
   "execution_count": 49,
   "metadata": {},
   "outputs": [
    {
     "name": "stdout",
     "output_type": "stream",
     "text": [
      "\u001b[32mSaved Phylogeny[Rooted] to: tree_out/rep_seqs_filt_aligned_masked_tree_rooted.qza\u001b[0m\r\n"
     ]
    }
   ],
   "source": [
    "!qiime phylogeny midpoint-root --i-tree tree_out/rep_seqs_filt_aligned_masked_tree.qza \\\n",
    "                              --o-rooted-tree tree_out/rep_seqs_filt_aligned_masked_tree_rooted.qza"
   ]
  },
  {
   "cell_type": "markdown",
   "metadata": {},
   "source": [
    "Generate rarefaction curves\n",
    "A key quality control step is to plot rarefaction curves for all of your samples to determine if you performed sufficient sequencing. The below command will generate these plots (X is a placeholder for the maximum depth in your dataset, which you can determine by running the summarize command above).\n",
    "## remember to change x"
   ]
  },
  {
   "cell_type": "code",
   "execution_count": 56,
   "metadata": {},
   "outputs": [
    {
     "name": "stdout",
     "output_type": "stream",
     "text": [
      "Usage: \u001b[34mqiime diversity alpha-rarefaction\u001b[0m [OPTIONS]\r\n",
      "\r\n",
      "  Generate interactive alpha rarefaction curves by computing rarefactions\r\n",
      "  between `min_depth` and `max_depth`. The number of intermediate depths to\r\n",
      "  compute is controlled by the `steps` parameter, with n `iterations` being\r\n",
      "  computed at each rarefaction depth. If sample metadata is provided,\r\n",
      "  samples may be grouped based on distinct values within a metadata column.\r\n",
      "\r\n",
      "\u001b[1mInputs\u001b[0m:\r\n",
      "  \u001b[34m\u001b[4m--i-table\u001b[0m ARTIFACT \u001b[32mFeatureTable[Frequency]\u001b[0m\r\n",
      "                          Feature table to compute rarefaction curves from.\r\n",
      "                                                                    \u001b[35m[required]\u001b[0m\r\n",
      "  \u001b[34m--i-phylogeny\u001b[0m ARTIFACT  Optional phylogeny for phylogenetic metrics.\r\n",
      "    \u001b[32mPhylogeny[Rooted]\u001b[0m                                               \u001b[35m[optional]\u001b[0m\r\n",
      "\u001b[1mParameters\u001b[0m:\r\n",
      "  \u001b[34m\u001b[4m--p-max-depth\u001b[0m INTEGER   The maximum rarefaction depth. Must be greater than\r\n",
      "    \u001b[32mRange(1, None)\u001b[0m        \u001b[4mmin-depth\u001b[0m.                                \u001b[35m[required]\u001b[0m\r\n",
      "  \u001b[34m--p-metrics\u001b[0m TEXT... \u001b[32mChoices('fisher_alpha', 'robbins', 'margalef',\u001b[0m\r\n",
      "    \u001b[32m'lladser_pe', 'heip_e', 'mcintosh_e', 'berger_parker_d', 'faith_pd',\u001b[0m\r\n",
      "    \u001b[32m'chao1', 'menhinick', 'doubles', 'dominance', 'goods_coverage',\u001b[0m\r\n",
      "    \u001b[32m'brillouin_d', 'enspie', 'simpson', 'ace', 'simpson_e', 'mcintosh_d',\u001b[0m\r\n",
      "    \u001b[32m'michaelis_menten_fit', 'gini_index', 'observed_otus', 'shannon',\u001b[0m\r\n",
      "    \u001b[32m'singles', 'pielou_e')\u001b[0m\r\n",
      "                          The metrics to be measured. By default computes\r\n",
      "                          observed_otus, shannon, and if phylogeny is\r\n",
      "                          provided, faith_pd.                       \u001b[35m[optional]\u001b[0m\r\n",
      "  \u001b[34m--m-metadata-file\u001b[0m METADATA...\r\n",
      "    (multiple arguments   The sample metadata.\r\n",
      "     will be merged)                                                \u001b[35m[optional]\u001b[0m\r\n",
      "  \u001b[34m--p-min-depth\u001b[0m INTEGER   The minimum rarefaction depth.\r\n",
      "    \u001b[32mRange(1, None)\u001b[0m                                                \u001b[35m[default: 1]\u001b[0m\r\n",
      "  \u001b[34m--p-steps\u001b[0m INTEGER       The number of rarefaction depths to include between\r\n",
      "    \u001b[32mRange(2, None)\u001b[0m        \u001b[4mmin-depth\u001b[0m and \u001b[4mmax-depth\u001b[0m.               \u001b[35m[default: 10]\u001b[0m\r\n",
      "  \u001b[34m--p-iterations\u001b[0m INTEGER  The number of rarefied feature tables to compute at\r\n",
      "    \u001b[32mRange(1, None)\u001b[0m        each step.                             \u001b[35m[default: 10]\u001b[0m\r\n",
      "\u001b[1mOutputs\u001b[0m:\r\n",
      "  \u001b[34m\u001b[4m--o-visualization\u001b[0m VISUALIZATION\r\n",
      "                                                                    \u001b[35m[required]\u001b[0m\r\n",
      "\u001b[1mMiscellaneous\u001b[0m:\r\n",
      "  \u001b[34m--output-dir\u001b[0m PATH       Output unspecified results to a directory\r\n",
      "  \u001b[34m--verbose\u001b[0m / \u001b[34m--quiet\u001b[0m     Display verbose output to stdout and/or stderr\r\n",
      "                          during execution of this action. Or silence output\r\n",
      "                          if execution is successful (silence is golden).\r\n",
      "  \u001b[34m--citations\u001b[0m             Show citations and exit.\r\n",
      "  \u001b[34m--help\u001b[0m                  Show this message and exit.\r\n",
      "\r\n",
      "\u001b[33m                    There was a problem with the command:                     \u001b[0m\r\n",
      "\u001b[31m\u001b[1m (1/1?) no such option: -h\u001b[0m\r\n"
     ]
    }
   ],
   "source": [
    "!qiime diversity alpha-rarefaction -h"
   ]
  },
  {
   "cell_type": "code",
   "execution_count": 59,
   "metadata": {},
   "outputs": [
    {
     "name": "stdout",
     "output_type": "stream",
     "text": [
      "\u001b[32mSaved Visualization to: rarefaction_curves.qzv\u001b[0m\r\n"
     ]
    }
   ],
   "source": [
    "!qiime diversity alpha-rarefaction --i-table dada2_output/table_filt.qza \\\n",
    "                                  --p-max-depth 2800 \\\n",
    "                                  --p-steps 10 \\\n",
    "                                  --i-phylogeny tree_out/rep_seqs_filt_aligned_masked_tree_rooted.qza --m-metadata-file MicrobialMat2.tsv \\\n",
    "                                  --o-visualization rarefaction_curves.qzv"
   ]
  },
  {
   "cell_type": "markdown",
   "metadata": {},
   "source": [
    "## Calculating diversity metrics and generating ordination plots\n",
    "Common alpha and beta-diversity metrics can be calculated with a single command in QIIME2. In addition, ordination plots (such as PCoA plots for weighted UniFrac distances) will be generated automatically as well. This command will also rarefy all samples to the sample sequencing depth before calculating these metrics (X is a placeholder for the lowest reasonable sample depth; samples with depth below this cut-off will be excluded)."
   ]
  },
  {
   "cell_type": "code",
   "execution_count": 61,
   "metadata": {},
   "outputs": [
    {
     "name": "stdout",
     "output_type": "stream",
     "text": [
      "\u001b[32mSaved FeatureTable[Frequency] to: diversity/rarefied_table.qza\u001b[0m\n",
      "\u001b[32mSaved SampleData[AlphaDiversity] % Properties('phylogenetic') to: diversity/faith_pd_vector.qza\u001b[0m\n",
      "\u001b[32mSaved SampleData[AlphaDiversity] to: diversity/observed_otus_vector.qza\u001b[0m\n",
      "\u001b[32mSaved SampleData[AlphaDiversity] to: diversity/shannon_vector.qza\u001b[0m\n",
      "\u001b[32mSaved SampleData[AlphaDiversity] to: diversity/evenness_vector.qza\u001b[0m\n",
      "\u001b[32mSaved DistanceMatrix % Properties('phylogenetic') to: diversity/unweighted_unifrac_distance_matrix.qza\u001b[0m\n",
      "\u001b[32mSaved DistanceMatrix % Properties('phylogenetic') to: diversity/weighted_unifrac_distance_matrix.qza\u001b[0m\n",
      "\u001b[32mSaved DistanceMatrix to: diversity/jaccard_distance_matrix.qza\u001b[0m\n",
      "\u001b[32mSaved DistanceMatrix to: diversity/bray_curtis_distance_matrix.qza\u001b[0m\n",
      "\u001b[32mSaved PCoAResults to: diversity/unweighted_unifrac_pcoa_results.qza\u001b[0m\n",
      "\u001b[32mSaved PCoAResults to: diversity/weighted_unifrac_pcoa_results.qza\u001b[0m\n",
      "\u001b[32mSaved PCoAResults to: diversity/jaccard_pcoa_results.qza\u001b[0m\n",
      "\u001b[32mSaved PCoAResults to: diversity/bray_curtis_pcoa_results.qza\u001b[0m\n",
      "\u001b[32mSaved Visualization to: diversity/unweighted_unifrac_emperor.qzv\u001b[0m\n",
      "\u001b[32mSaved Visualization to: diversity/weighted_unifrac_emperor.qzv\u001b[0m\n",
      "\u001b[32mSaved Visualization to: diversity/jaccard_emperor.qzv\u001b[0m\n",
      "\u001b[32mSaved Visualization to: diversity/bray_curtis_emperor.qzv\u001b[0m\n"
     ]
    }
   ],
   "source": [
    "!qiime diversity core-metrics-phylogenetic --i-table dada2_output/table_filt.qza \\\n",
    "                                          --i-phylogeny tree_out/rep_seqs_filt_aligned_masked_tree_rooted.qza \\\n",
    "                                          --p-sampling-depth 2800 \\\n",
    "                                          --m-metadata-file MicrobialMat2.tsv \\\n",
    "                                          --p-n-jobs 4 \\\n",
    "                                          --output-dir diversity"
   ]
  },
  {
   "cell_type": "markdown",
   "metadata": {},
   "source": [
    "We can also use the diversity plugin to check if there are differences in alpha diversity between groups:"
   ]
  },
  {
   "cell_type": "code",
   "execution_count": 62,
   "metadata": {},
   "outputs": [
    {
     "name": "stdout",
     "output_type": "stream",
     "text": [
      "\u001b[32mSaved Visualization to: diversity/alpha_groups.qzv\u001b[0m\r\n"
     ]
    }
   ],
   "source": [
    "!qiime diversity alpha-group-significance \\\n",
    "    --i-alpha-diversity diversity/shannon_vector.qza \\\n",
    "    --m-metadata-file MicrobialMat2.tsv \\\n",
    "    --o-visualization diversity/alpha_groups.qzv"
   ]
  },
  {
   "cell_type": "markdown",
   "metadata": {},
   "source": [
    "## Identifying differentially abundant features with ANCOM\n",
    "ANCOM is one method to test for difference in the relative abundance of features between sample groupings. It is a compositional approach that makes no assumptions about feature distributions. However, it requires that all features have non-zero abundances so a pseudocount of 1 first needs to be added:"
   ]
  },
  {
   "cell_type": "code",
   "execution_count": 63,
   "metadata": {},
   "outputs": [
    {
     "name": "stdout",
     "output_type": "stream",
     "text": [
      "\u001b[32mSaved FeatureTable[Composition] to: dada2_output/table_filt_pseudocount.qza\u001b[0m\r\n"
     ]
    }
   ],
   "source": [
    "!qiime composition add-pseudocount --i-table dada2_output/table_filt.qza \\\n",
    "                                  --o-composition-table dada2_output/table_filt_pseudocount.qza"
   ]
  },
  {
   "cell_type": "markdown",
   "metadata": {},
   "source": [
    "Then ANCOM can be run with this command:"
   ]
  },
  {
   "cell_type": "code",
   "execution_count": 64,
   "metadata": {},
   "outputs": [
    {
     "name": "stdout",
     "output_type": "stream",
     "text": [
      "Usage: \u001b[34mqiime composition ancom\u001b[0m [OPTIONS]\r\n",
      "\r\n",
      "  Apply Analysis of Composition of Microbiomes (ANCOM) to identify features\r\n",
      "  that are differentially abundant across groups.\r\n",
      "\r\n",
      "\u001b[1mInputs\u001b[0m:\r\n",
      "  \u001b[34m\u001b[4m--i-table\u001b[0m ARTIFACT \u001b[32mFeatureTable[Composition]\u001b[0m\r\n",
      "                       The feature table to be used for ANCOM computation.\r\n",
      "                                                                    \u001b[35m[required]\u001b[0m\r\n",
      "\u001b[1mParameters\u001b[0m:\r\n",
      "  \u001b[34m\u001b[4m--m-metadata-file\u001b[0m METADATA\r\n",
      "  \u001b[34m\u001b[4m--m-metadata-column\u001b[0m COLUMN  \u001b[32mMetadataColumn[Categorical]\u001b[0m\r\n",
      "                       The categorical sample metadata column to test for\r\n",
      "                       differential abundance across.               \u001b[35m[required]\u001b[0m\r\n",
      "  \u001b[34m--p-transform-function\u001b[0m TEXT \u001b[32mChoices('sqrt', 'log', 'clr')\u001b[0m\r\n",
      "                       The method applied to transform feature values before\r\n",
      "                       generating volcano plots.              \u001b[35m[default: 'clr']\u001b[0m\r\n",
      "  \u001b[34m--p-difference-function\u001b[0m TEXT \u001b[32mChoices('mean_difference', 'f_statistic')\u001b[0m\r\n",
      "                       The method applied to visualize fold difference in\r\n",
      "                       feature abundances across groups for volcano plots.\r\n",
      "                                                                    \u001b[35m[optional]\u001b[0m\r\n",
      "\u001b[1mOutputs\u001b[0m:\r\n",
      "  \u001b[34m\u001b[4m--o-visualization\u001b[0m VISUALIZATION\r\n",
      "                                                                    \u001b[35m[required]\u001b[0m\r\n",
      "\u001b[1mMiscellaneous\u001b[0m:\r\n",
      "  \u001b[34m--output-dir\u001b[0m PATH    Output unspecified results to a directory\r\n",
      "  \u001b[34m--verbose\u001b[0m / \u001b[34m--quiet\u001b[0m  Display verbose output to stdout and/or stderr during\r\n",
      "                       execution of this action. Or silence output if\r\n",
      "                       execution is successful (silence is golden).\r\n",
      "  \u001b[34m--citations\u001b[0m          Show citations and exit.\r\n",
      "  \u001b[34m--help\u001b[0m               Show this message and exit.\r\n",
      "\r\n",
      "\u001b[33m                    There was a problem with the command:                     \u001b[0m\r\n",
      "\u001b[31m\u001b[1m (1/1) Invalid value for \"--m-metadata-file\": Metadata column is of type\r\n",
      "  'numeric', but expected Categorical.\u001b[0m\r\n"
     ]
    }
   ],
   "source": [
    "!qiime composition ancom --i-table dada2_output/table_filt_pseudocount.qza \\\n",
    "                        --m-metadata-file MicrobialMat2.tsv \\\n",
    "                        --m-metadata-column Tank \\\n",
    "                        --output-dir ancom_output"
   ]
  },
  {
   "cell_type": "markdown",
   "metadata": {},
   "source": [
    "Exporting the final abundance and sequence files\n",
    "Lastly, to get the BIOM file and FASTA file for your dataset to plug into other programs you can use these commands:"
   ]
  },
  {
   "cell_type": "code",
   "execution_count": null,
   "metadata": {},
   "outputs": [],
   "source": [
    "qiime tools export dada2_output/table_filt.qza --output-dir dada2_output_exported\n",
    "qiime tools export dada2_output/rep_seqs_filt.qza --output-dir dada2_output_exported"
   ]
  }
 ],
 "metadata": {
  "kernelspec": {
   "display_name": "Python 3",
   "language": "python",
   "name": "python3"
  },
  "language_info": {
   "codemirror_mode": {
    "name": "ipython",
    "version": 3
   },
   "file_extension": ".py",
   "mimetype": "text/x-python",
   "name": "python",
   "nbconvert_exporter": "python",
   "pygments_lexer": "ipython3",
   "version": "3.6.10"
  }
 },
 "nbformat": 4,
 "nbformat_minor": 2
}
